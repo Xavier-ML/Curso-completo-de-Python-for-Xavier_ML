{
 "cells": [
  {
   "cell_type": "markdown",
   "id": "73511f00",
   "metadata": {
    "papermill": {
     "duration": 0.009595,
     "end_time": "2023-10-27T13:51:10.791218",
     "exception": false,
     "start_time": "2023-10-27T13:51:10.781623",
     "status": "completed"
    },
    "tags": []
   },
   "source": [
    "**This notebook is an exercise in the [Python](https://www.kaggle.com/learn/python) course.  You can reference the tutorial at [this link](https://www.kaggle.com/colinmorris/loops-and-list-comprehensions).**\n",
    "\n",
    "---\n"
   ]
  },
  {
   "cell_type": "markdown",
   "id": "b7687f1f",
   "metadata": {
    "papermill": {
     "duration": 0.006985,
     "end_time": "2023-10-27T13:51:10.805263",
     "exception": false,
     "start_time": "2023-10-27T13:51:10.798278",
     "status": "completed"
    },
    "tags": []
   },
   "source": [
    "With all you've learned, you can start writing much more interesting programs. See if you can solve the problems below.\n",
    "\n",
    "As always, run the setup code below before working on the questions."
   ]
  },
  {
   "cell_type": "code",
   "execution_count": 1,
   "id": "ac2551e0",
   "metadata": {
    "execution": {
     "iopub.execute_input": "2023-10-27T13:51:10.821343Z",
     "iopub.status.busy": "2023-10-27T13:51:10.820876Z",
     "iopub.status.idle": "2023-10-27T13:51:11.354131Z",
     "shell.execute_reply": "2023-10-27T13:51:11.351446Z"
    },
    "papermill": {
     "duration": 0.544762,
     "end_time": "2023-10-27T13:51:11.357095",
     "exception": false,
     "start_time": "2023-10-27T13:51:10.812333",
     "status": "completed"
    },
    "tags": []
   },
   "outputs": [
    {
     "name": "stdout",
     "output_type": "stream",
     "text": [
      "Setup complete.\n"
     ]
    }
   ],
   "source": [
    "from learntools.core import binder; binder.bind(globals())\n",
    "from learntools.python.ex5 import *\n",
    "print('Setup complete.')"
   ]
  },
  {
   "cell_type": "markdown",
   "id": "8ec724d0",
   "metadata": {
    "papermill": {
     "duration": 0.006668,
     "end_time": "2023-10-27T13:51:11.370727",
     "exception": false,
     "start_time": "2023-10-27T13:51:11.364059",
     "status": "completed"
    },
    "tags": []
   },
   "source": [
    "# 1.\n",
    "\n",
    "Have you ever felt debugging involved a bit of luck? The following program has a bug. Try to identify the bug and fix it."
   ]
  },
  {
   "cell_type": "code",
   "execution_count": 2,
   "id": "94fff6e8",
   "metadata": {
    "execution": {
     "iopub.execute_input": "2023-10-27T13:51:11.386322Z",
     "iopub.status.busy": "2023-10-27T13:51:11.385728Z",
     "iopub.status.idle": "2023-10-27T13:51:11.392824Z",
     "shell.execute_reply": "2023-10-27T13:51:11.391589Z"
    },
    "papermill": {
     "duration": 0.017756,
     "end_time": "2023-10-27T13:51:11.395320",
     "exception": false,
     "start_time": "2023-10-27T13:51:11.377564",
     "status": "completed"
    },
    "tags": []
   },
   "outputs": [],
   "source": [
    "def has_lucky_number(nums):\n",
    "    \"\"\"Return whether the given list of numbers is lucky. A lucky list contains\n",
    "    at least one number divisible by 7.\n",
    "    \"\"\"\n",
    "    for num in nums:\n",
    "        if num % 7 == 0:\n",
    "            return True\n",
    "        else:\n",
    "            return False"
   ]
  },
  {
   "cell_type": "markdown",
   "id": "b8512cc6",
   "metadata": {
    "papermill": {
     "duration": 0.009453,
     "end_time": "2023-10-27T13:51:11.412683",
     "exception": false,
     "start_time": "2023-10-27T13:51:11.403230",
     "status": "completed"
    },
    "tags": []
   },
   "source": [
    "Try to identify the bug and fix it in the cell below:"
   ]
  },
  {
   "cell_type": "code",
   "execution_count": 3,
   "id": "72c7a264",
   "metadata": {
    "execution": {
     "iopub.execute_input": "2023-10-27T13:51:11.428765Z",
     "iopub.status.busy": "2023-10-27T13:51:11.428395Z",
     "iopub.status.idle": "2023-10-27T13:51:11.440254Z",
     "shell.execute_reply": "2023-10-27T13:51:11.439082Z"
    },
    "papermill": {
     "duration": 0.022626,
     "end_time": "2023-10-27T13:51:11.442687",
     "exception": false,
     "start_time": "2023-10-27T13:51:11.420061",
     "status": "completed"
    },
    "tags": []
   },
   "outputs": [
    {
     "data": {
      "application/javascript": [
       "parent.postMessage({\"jupyterEvent\": \"custom.exercise_interaction\", \"data\": {\"outcomeType\": 1, \"valueTowardsCompletion\": 0.25, \"interactionType\": 1, \"questionType\": 2, \"questionId\": \"1_EarlyExitDebugging\", \"learnToolsVersion\": \"0.3.4\", \"failureMessage\": \"\", \"exceptionClass\": \"\", \"trace\": \"\"}}, \"*\")"
      ],
      "text/plain": [
       "<IPython.core.display.Javascript object>"
      ]
     },
     "metadata": {},
     "output_type": "display_data"
    },
    {
     "data": {
      "text/markdown": [
       "<span style=\"color:#33cc33\">Correct:</span> \n",
       "\n",
       "Remember that `return` causes a function to exit immediately. So our original implementation always ran for just one iteration. We can only return `False` if we've looked at every element of the list (and confirmed that none of them are lucky). Though we can return early if the answer is `True`:\n",
       "\n",
       "```python\n",
       "def has_lucky_number(nums):\n",
       "    for num in nums:\n",
       "        if num % 7 == 0:\n",
       "            return True\n",
       "    # We've exhausted the list without finding a lucky number\n",
       "    return False\n",
       "```\n",
       "\n",
       "Here's a one-line version using a list comprehension with Python's `any` function (you can read about what it does by calling `help(any)`):\n",
       "\n",
       "```python\n",
       "def has_lucky_number(nums):\n",
       "    return any([num % 7 == 0 for num in nums])\n",
       "```\n"
      ],
      "text/plain": [
       "Correct: \n",
       "\n",
       "Remember that `return` causes a function to exit immediately. So our original implementation always ran for just one iteration. We can only return `False` if we've looked at every element of the list (and confirmed that none of them are lucky). Though we can return early if the answer is `True`:\n",
       "\n",
       "```python\n",
       "def has_lucky_number(nums):\n",
       "    for num in nums:\n",
       "        if num % 7 == 0:\n",
       "            return True\n",
       "    # We've exhausted the list without finding a lucky number\n",
       "    return False\n",
       "```\n",
       "\n",
       "Here's a one-line version using a list comprehension with Python's `any` function (you can read about what it does by calling `help(any)`):\n",
       "\n",
       "```python\n",
       "def has_lucky_number(nums):\n",
       "    return any([num % 7 == 0 for num in nums])\n",
       "```"
      ]
     },
     "metadata": {},
     "output_type": "display_data"
    }
   ],
   "source": [
    "def has_lucky_number(nums):\n",
    "    \"\"\"Return whether the given list of numbers is lucky. A lucky list contains\n",
    "    at least one number divisible by 7.\n",
    "    \"\"\"\n",
    "    for num in nums:\n",
    "        if num % 7 == 0:\n",
    "            return True\n",
    "    return False\n",
    "\n",
    "# Check your answer\n",
    "q1.check()"
   ]
  },
  {
   "cell_type": "code",
   "execution_count": 4,
   "id": "8194d148",
   "metadata": {
    "execution": {
     "iopub.execute_input": "2023-10-27T13:51:11.459018Z",
     "iopub.status.busy": "2023-10-27T13:51:11.458645Z",
     "iopub.status.idle": "2023-10-27T13:51:11.464138Z",
     "shell.execute_reply": "2023-10-27T13:51:11.462675Z"
    },
    "papermill": {
     "duration": 0.016508,
     "end_time": "2023-10-27T13:51:11.466470",
     "exception": false,
     "start_time": "2023-10-27T13:51:11.449962",
     "status": "completed"
    },
    "tags": []
   },
   "outputs": [],
   "source": [
    "#q1.hint()\n",
    "#q1.solution()"
   ]
  },
  {
   "cell_type": "markdown",
   "id": "a35e0c44",
   "metadata": {
    "papermill": {
     "duration": 0.006973,
     "end_time": "2023-10-27T13:51:11.480822",
     "exception": false,
     "start_time": "2023-10-27T13:51:11.473849",
     "status": "completed"
    },
    "tags": []
   },
   "source": [
    "# 2.\n",
    "Look at the Python expression below. What do you think we'll get when we run it? When you've made your prediction, uncomment the code and run the cell to see if you were right."
   ]
  },
  {
   "cell_type": "code",
   "execution_count": 5,
   "id": "ed036272",
   "metadata": {
    "execution": {
     "iopub.execute_input": "2023-10-27T13:51:11.498429Z",
     "iopub.status.busy": "2023-10-27T13:51:11.497943Z",
     "iopub.status.idle": "2023-10-27T13:51:11.503063Z",
     "shell.execute_reply": "2023-10-27T13:51:11.501905Z"
    },
    "papermill": {
     "duration": 0.016669,
     "end_time": "2023-10-27T13:51:11.505374",
     "exception": false,
     "start_time": "2023-10-27T13:51:11.488705",
     "status": "completed"
    },
    "tags": []
   },
   "outputs": [],
   "source": [
    "#[1, 2, 3, 4] > 2"
   ]
  },
  {
   "cell_type": "markdown",
   "id": "e2ccf082",
   "metadata": {
    "papermill": {
     "duration": 0.007025,
     "end_time": "2023-10-27T13:51:11.519739",
     "exception": false,
     "start_time": "2023-10-27T13:51:11.512714",
     "status": "completed"
    },
    "tags": []
   },
   "source": [
    "R and Python have some libraries (like numpy and pandas) compare each element of the list to 2 (i.e. do an 'element-wise' comparison) and give us a list of booleans like `[False, False, True, True]`. \n",
    "\n",
    "Implement a function that reproduces this behaviour, returning a list of booleans corresponding to whether the corresponding element is greater than n."
   ]
  },
  {
   "cell_type": "code",
   "execution_count": 6,
   "id": "43c72d74",
   "metadata": {
    "execution": {
     "iopub.execute_input": "2023-10-27T13:51:11.537166Z",
     "iopub.status.busy": "2023-10-27T13:51:11.536714Z",
     "iopub.status.idle": "2023-10-27T13:51:11.547455Z",
     "shell.execute_reply": "2023-10-27T13:51:11.546524Z"
    },
    "papermill": {
     "duration": 0.022551,
     "end_time": "2023-10-27T13:51:11.549690",
     "exception": false,
     "start_time": "2023-10-27T13:51:11.527139",
     "status": "completed"
    },
    "tags": []
   },
   "outputs": [
    {
     "data": {
      "application/javascript": [
       "parent.postMessage({\"jupyterEvent\": \"custom.exercise_interaction\", \"data\": {\"outcomeType\": 1, \"valueTowardsCompletion\": 0.25, \"interactionType\": 1, \"questionType\": 2, \"questionId\": \"2_ElementWiseComparison\", \"learnToolsVersion\": \"0.3.4\", \"failureMessage\": \"\", \"exceptionClass\": \"\", \"trace\": \"\"}}, \"*\")"
      ],
      "text/plain": [
       "<IPython.core.display.Javascript object>"
      ]
     },
     "metadata": {},
     "output_type": "display_data"
    },
    {
     "data": {
      "text/markdown": [
       "<span style=\"color:#33cc33\">Correct:</span> \n",
       "\n",
       "Here's one solution:\n",
       "```python\n",
       "def elementwise_greater_than(L, thresh):\n",
       "    res = []\n",
       "    for ele in L:\n",
       "        res.append(ele > thresh)\n",
       "    return res\n",
       "```\n",
       "\n",
       "And here's the list comprehension version:\n",
       "```python\n",
       "def elementwise_greater_than(L, thresh):\n",
       "    return [ele > thresh for ele in L]\n",
       "```\n"
      ],
      "text/plain": [
       "Correct: \n",
       "\n",
       "Here's one solution:\n",
       "```python\n",
       "def elementwise_greater_than(L, thresh):\n",
       "    res = []\n",
       "    for ele in L:\n",
       "        res.append(ele > thresh)\n",
       "    return res\n",
       "```\n",
       "\n",
       "And here's the list comprehension version:\n",
       "```python\n",
       "def elementwise_greater_than(L, thresh):\n",
       "    return [ele > thresh for ele in L]\n",
       "```"
      ]
     },
     "metadata": {},
     "output_type": "display_data"
    }
   ],
   "source": [
    "def elementwise_greater_than(L, thresh):\n",
    "    \"\"\"Return a list with the same length as L, where the value at index i is \n",
    "    True if L[i] is greater than thresh, and False otherwise.\n",
    "    \n",
    "    >>> elementwise_greater_than([1, 2, 3, 4], 2)\n",
    "    [False, False, True, True]\n",
    "    \"\"\"\n",
    "    lista_booleans = []\n",
    "    for i in range(len(L)):\n",
    "        if L[i]>thresh:\n",
    "            lista_booleans.append(True)\n",
    "        else:\n",
    "            lista_booleans.append(False)\n",
    "    return lista_booleans\n",
    "\n",
    "# Check your answer\n",
    "q2.check()"
   ]
  },
  {
   "cell_type": "code",
   "execution_count": 7,
   "id": "7ffd5e93",
   "metadata": {
    "execution": {
     "iopub.execute_input": "2023-10-27T13:51:11.567316Z",
     "iopub.status.busy": "2023-10-27T13:51:11.566822Z",
     "iopub.status.idle": "2023-10-27T13:51:11.571966Z",
     "shell.execute_reply": "2023-10-27T13:51:11.570774Z"
    },
    "papermill": {
     "duration": 0.016986,
     "end_time": "2023-10-27T13:51:11.574429",
     "exception": false,
     "start_time": "2023-10-27T13:51:11.557443",
     "status": "completed"
    },
    "tags": []
   },
   "outputs": [],
   "source": [
    "#q2.solution()"
   ]
  },
  {
   "cell_type": "markdown",
   "id": "205c8f66",
   "metadata": {
    "papermill": {
     "duration": 0.007642,
     "end_time": "2023-10-27T13:51:11.589932",
     "exception": false,
     "start_time": "2023-10-27T13:51:11.582290",
     "status": "completed"
    },
    "tags": []
   },
   "source": [
    "# 3.\n",
    "\n",
    "Complete the body of the function below according to its docstring."
   ]
  },
  {
   "cell_type": "code",
   "execution_count": 8,
   "id": "46ca9899",
   "metadata": {
    "execution": {
     "iopub.execute_input": "2023-10-27T13:51:11.607819Z",
     "iopub.status.busy": "2023-10-27T13:51:11.606918Z",
     "iopub.status.idle": "2023-10-27T13:51:11.617963Z",
     "shell.execute_reply": "2023-10-27T13:51:11.617049Z"
    },
    "papermill": {
     "duration": 0.022835,
     "end_time": "2023-10-27T13:51:11.620462",
     "exception": false,
     "start_time": "2023-10-27T13:51:11.597627",
     "status": "completed"
    },
    "tags": []
   },
   "outputs": [
    {
     "data": {
      "application/javascript": [
       "parent.postMessage({\"jupyterEvent\": \"custom.exercise_interaction\", \"data\": {\"outcomeType\": 4, \"interactionType\": 1, \"questionType\": 2, \"questionId\": \"3_BoringMenu\", \"learnToolsVersion\": \"0.3.4\", \"valueTowardsCompletion\": 0.0, \"failureMessage\": \"\", \"exceptionClass\": \"\", \"trace\": \"\"}}, \"*\")"
      ],
      "text/plain": [
       "<IPython.core.display.Javascript object>"
      ]
     },
     "metadata": {},
     "output_type": "display_data"
    },
    {
     "data": {
      "text/markdown": [
       "<span style=\"color:#ccaa33\">Check:</span> When you've updated the starter code, `check()` will tell you whether your code is correct. "
      ],
      "text/plain": [
       "Check: When you've updated the starter code, `check()` will tell you whether your code is correct. "
      ]
     },
     "metadata": {},
     "output_type": "display_data"
    }
   ],
   "source": [
    "def menu_is_boring(meals):\n",
    "    \"\"\"Given a list of meals served over some period of time, return True if the\n",
    "    same meal has ever been served two days in a row, and False otherwise.\n",
    "    \"\"\"\n",
    "    pass\n",
    "\n",
    "# Check your answer\n",
    "q3.check()"
   ]
  },
  {
   "cell_type": "code",
   "execution_count": 9,
   "id": "6a77728b",
   "metadata": {
    "execution": {
     "iopub.execute_input": "2023-10-27T13:51:11.639350Z",
     "iopub.status.busy": "2023-10-27T13:51:11.638760Z",
     "iopub.status.idle": "2023-10-27T13:51:11.644146Z",
     "shell.execute_reply": "2023-10-27T13:51:11.642778Z"
    },
    "papermill": {
     "duration": 0.018071,
     "end_time": "2023-10-27T13:51:11.646784",
     "exception": false,
     "start_time": "2023-10-27T13:51:11.628713",
     "status": "completed"
    },
    "tags": []
   },
   "outputs": [],
   "source": [
    "#q3.hint()\n",
    "#q3.solution()"
   ]
  },
  {
   "cell_type": "markdown",
   "id": "9e5d35cc",
   "metadata": {
    "papermill": {
     "duration": 0.007761,
     "end_time": "2023-10-27T13:51:11.662866",
     "exception": false,
     "start_time": "2023-10-27T13:51:11.655105",
     "status": "completed"
    },
    "tags": []
   },
   "source": [
    "# 4. <span title=\"A bit spicy\" style=\"color: darkgreen \">🌶️</span>\n",
    "\n",
    "Next to the Blackjack table, the Python Challenge Casino has a slot machine. You can get a result from the slot machine by calling `play_slot_machine()`. The number it returns is your winnings in dollars. Usually it returns 0.  But sometimes you'll get lucky and get a big payday. Try running it below:"
   ]
  },
  {
   "cell_type": "code",
   "execution_count": 10,
   "id": "4b705e47",
   "metadata": {
    "execution": {
     "iopub.execute_input": "2023-10-27T13:51:11.681153Z",
     "iopub.status.busy": "2023-10-27T13:51:11.680683Z",
     "iopub.status.idle": "2023-10-27T13:51:11.688263Z",
     "shell.execute_reply": "2023-10-27T13:51:11.686989Z"
    },
    "papermill": {
     "duration": 0.019903,
     "end_time": "2023-10-27T13:51:11.690757",
     "exception": false,
     "start_time": "2023-10-27T13:51:11.670854",
     "status": "completed"
    },
    "tags": []
   },
   "outputs": [
    {
     "data": {
      "text/plain": [
       "0"
      ]
     },
     "execution_count": 10,
     "metadata": {},
     "output_type": "execute_result"
    }
   ],
   "source": [
    "play_slot_machine()"
   ]
  },
  {
   "cell_type": "markdown",
   "id": "7755682b",
   "metadata": {
    "papermill": {
     "duration": 0.008152,
     "end_time": "2023-10-27T13:51:11.707311",
     "exception": false,
     "start_time": "2023-10-27T13:51:11.699159",
     "status": "completed"
    },
    "tags": []
   },
   "source": [
    "By the way, did we mention that each play costs $1? Don't worry, we'll send you the bill later.\n",
    "\n",
    "On average, how much money can you expect to gain (or lose) every time you play the machine?  The casino keeps it a secret, but you can estimate the average value of each pull using a technique called the **Monte Carlo method**. To estimate the average outcome, we simulate the scenario many times, and return the average result.\n",
    "\n",
    "Complete the following function to calculate the average value per play of the slot machine."
   ]
  },
  {
   "cell_type": "code",
   "execution_count": 11,
   "id": "2b574d11",
   "metadata": {
    "execution": {
     "iopub.execute_input": "2023-10-27T13:51:11.726034Z",
     "iopub.status.busy": "2023-10-27T13:51:11.725567Z",
     "iopub.status.idle": "2023-10-27T13:51:11.731653Z",
     "shell.execute_reply": "2023-10-27T13:51:11.730255Z"
    },
    "papermill": {
     "duration": 0.018501,
     "end_time": "2023-10-27T13:51:11.734097",
     "exception": false,
     "start_time": "2023-10-27T13:51:11.715596",
     "status": "completed"
    },
    "tags": []
   },
   "outputs": [],
   "source": [
    "def estimate_average_slot_payout(n_runs):\n",
    "    \"\"\"Run the slot machine n_runs times and return the average net profit per run.\n",
    "    Example calls (note that return value is nondeterministic!):\n",
    "    >>> estimate_average_slot_payout(1)\n",
    "    -1\n",
    "    >>> estimate_average_slot_payout(1)\n",
    "    0.5\n",
    "    \"\"\"\n",
    "    pass"
   ]
  },
  {
   "cell_type": "markdown",
   "id": "8ea3791d",
   "metadata": {
    "papermill": {
     "duration": 0.008192,
     "end_time": "2023-10-27T13:51:11.750819",
     "exception": false,
     "start_time": "2023-10-27T13:51:11.742627",
     "status": "completed"
    },
    "tags": []
   },
   "source": [
    "When you think you know the expected value per spin, run the code cell below to view the solution and get credit for answering the question."
   ]
  },
  {
   "cell_type": "code",
   "execution_count": 12,
   "id": "349a4764",
   "metadata": {
    "execution": {
     "iopub.execute_input": "2023-10-27T13:51:11.770028Z",
     "iopub.status.busy": "2023-10-27T13:51:11.769575Z",
     "iopub.status.idle": "2023-10-27T13:51:11.779505Z",
     "shell.execute_reply": "2023-10-27T13:51:11.778131Z"
    },
    "papermill": {
     "duration": 0.022646,
     "end_time": "2023-10-27T13:51:11.781986",
     "exception": false,
     "start_time": "2023-10-27T13:51:11.759340",
     "status": "completed"
    },
    "tags": []
   },
   "outputs": [
    {
     "data": {
      "application/javascript": [
       "parent.postMessage({\"jupyterEvent\": \"custom.exercise_interaction\", \"data\": {\"interactionType\": 3, \"questionType\": 4, \"questionId\": \"4_ExpectedSlotsPayout\", \"learnToolsVersion\": \"0.3.4\", \"valueTowardsCompletion\": 0.0, \"failureMessage\": \"\", \"exceptionClass\": \"\", \"trace\": \"\", \"outcomeType\": 4}}, \"*\")"
      ],
      "text/plain": [
       "<IPython.core.display.Javascript object>"
      ]
     },
     "metadata": {},
     "output_type": "display_data"
    },
    {
     "data": {
      "text/markdown": [
       "<span style=\"color:#33cc99\">Solution:</span> \n",
       "    \n",
       "The exact expected value of one pull of the slot machine is 0.025 - i.e. a little more than 2 cents.  See?  Not every game in the Python Challenge Casino is rigged against the player!\n",
       "\n",
       "In order to get this answer, you'll need to implement the `estimate_average_slot_payout(n_runs)` function to simulate pulling the slot machine `n_runs` times.  It should return the payout averaged over those `n_runs`.\n",
       "\n",
       "Then, once the function is defined, in order to estimate the average slot payout, we need only call the function.\n",
       "\n",
       "Because of the high variance of the outcome (there are some very rare high payout results that significantly affect the average) you might need to run your function with a very high value of `n_runs` to get a stable answer close to the true expectation.  For instance, you might use a value for `n_runs` of 1000000.\n",
       "\n",
       "Here's an example for how the function could look:\n",
       "```python\n",
       "def estimate_average_slot_payout(n_runs):\n",
       "    # Play slot machine n_runs times, calculate payout of each\n",
       "    payouts = [play_slot_machine()-1 for i in range(n_runs)]\n",
       "    # Calculate the average value\n",
       "    avg_payout = sum(payouts) / n_runs\n",
       "    return avg_payout\n",
       "    \n",
       "estimate_average_slot_payout(10000000)\n",
       "\n",
       "```\n",
       "\n",
       "This should return an answer close to 0.025!\n",
       "            \n"
      ],
      "text/plain": [
       "Solution: \n",
       "    \n",
       "The exact expected value of one pull of the slot machine is 0.025 - i.e. a little more than 2 cents.  See?  Not every game in the Python Challenge Casino is rigged against the player!\n",
       "\n",
       "In order to get this answer, you'll need to implement the `estimate_average_slot_payout(n_runs)` function to simulate pulling the slot machine `n_runs` times.  It should return the payout averaged over those `n_runs`.\n",
       "\n",
       "Then, once the function is defined, in order to estimate the average slot payout, we need only call the function.\n",
       "\n",
       "Because of the high variance of the outcome (there are some very rare high payout results that significantly affect the average) you might need to run your function with a very high value of `n_runs` to get a stable answer close to the true expectation.  For instance, you might use a value for `n_runs` of 1000000.\n",
       "\n",
       "Here's an example for how the function could look:\n",
       "```python\n",
       "def estimate_average_slot_payout(n_runs):\n",
       "    # Play slot machine n_runs times, calculate payout of each\n",
       "    payouts = [play_slot_machine()-1 for i in range(n_runs)]\n",
       "    # Calculate the average value\n",
       "    avg_payout = sum(payouts) / n_runs\n",
       "    return avg_payout\n",
       "    \n",
       "estimate_average_slot_payout(10000000)\n",
       "\n",
       "```\n",
       "\n",
       "This should return an answer close to 0.025!\n",
       "            "
      ]
     },
     "metadata": {},
     "output_type": "display_data"
    }
   ],
   "source": [
    "# Check your answer (Run this code cell to receive credit!)\n",
    "q4.solution()"
   ]
  },
  {
   "cell_type": "markdown",
   "id": "2a63e676",
   "metadata": {
    "papermill": {
     "duration": 0.008763,
     "end_time": "2023-10-27T13:51:11.799650",
     "exception": false,
     "start_time": "2023-10-27T13:51:11.790887",
     "status": "completed"
    },
    "tags": []
   },
   "source": [
    "# Keep Going\n",
    "\n",
    "Many programmers report that dictionaries are their favorite data structure. You'll get to **[learn about them](https://www.kaggle.com/colinmorris/strings-and-dictionaries)** (as well as strings) in the next lesson."
   ]
  },
  {
   "cell_type": "markdown",
   "id": "9fbf941e",
   "metadata": {
    "papermill": {
     "duration": 0.008652,
     "end_time": "2023-10-27T13:51:11.817498",
     "exception": false,
     "start_time": "2023-10-27T13:51:11.808846",
     "status": "completed"
    },
    "tags": []
   },
   "source": [
    "---\n",
    "\n",
    "\n",
    "\n",
    "\n",
    "*Have questions or comments? Visit the [course discussion forum](https://www.kaggle.com/learn/python/discussion) to chat with other learners.*"
   ]
  }
 ],
 "metadata": {
  "kernelspec": {
   "display_name": "Python 3",
   "language": "python",
   "name": "python3"
  },
  "language_info": {
   "codemirror_mode": {
    "name": "ipython",
    "version": 3
   },
   "file_extension": ".py",
   "mimetype": "text/x-python",
   "name": "python",
   "nbconvert_exporter": "python",
   "pygments_lexer": "ipython3",
   "version": "3.10.12"
  },
  "papermill": {
   "default_parameters": {},
   "duration": 8.579635,
   "end_time": "2023-10-27T13:51:15.422349",
   "environment_variables": {},
   "exception": null,
   "input_path": "__notebook__.ipynb",
   "output_path": "__notebook__.ipynb",
   "parameters": {},
   "start_time": "2023-10-27T13:51:06.842714",
   "version": "2.4.0"
  }
 },
 "nbformat": 4,
 "nbformat_minor": 5
}
