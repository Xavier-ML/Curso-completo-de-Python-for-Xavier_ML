{
 "cells": [
  {
   "cell_type": "markdown",
   "id": "9700a8a9",
   "metadata": {
    "papermill": {
     "duration": 0.005223,
     "end_time": "2023-10-27T15:04:26.137874",
     "exception": false,
     "start_time": "2023-10-27T15:04:26.132651",
     "status": "completed"
    },
    "tags": []
   },
   "source": [
    "**This notebook is an exercise in the [Python](https://www.kaggle.com/learn/python) course.  You can reference the tutorial at [this link](https://www.kaggle.com/colinmorris/loops-and-list-comprehensions).**\n",
    "\n",
    "---\n"
   ]
  },
  {
   "cell_type": "markdown",
   "id": "39af8774",
   "metadata": {
    "papermill": {
     "duration": 0.004196,
     "end_time": "2023-10-27T15:04:26.146710",
     "exception": false,
     "start_time": "2023-10-27T15:04:26.142514",
     "status": "completed"
    },
    "tags": []
   },
   "source": [
    "With all you've learned, you can start writing much more interesting programs. See if you can solve the problems below.\n",
    "\n",
    "As always, run the setup code below before working on the questions."
   ]
  },
  {
   "cell_type": "code",
   "execution_count": 1,
   "id": "b80dceda",
   "metadata": {
    "execution": {
     "iopub.execute_input": "2023-10-27T15:04:26.157536Z",
     "iopub.status.busy": "2023-10-27T15:04:26.157018Z",
     "iopub.status.idle": "2023-10-27T15:04:26.891304Z",
     "shell.execute_reply": "2023-10-27T15:04:26.890304Z"
    },
    "papermill": {
     "duration": 0.742024,
     "end_time": "2023-10-27T15:04:26.893188",
     "exception": false,
     "start_time": "2023-10-27T15:04:26.151164",
     "status": "completed"
    },
    "tags": []
   },
   "outputs": [
    {
     "name": "stdout",
     "output_type": "stream",
     "text": [
      "Setup complete.\n"
     ]
    }
   ],
   "source": [
    "from learntools.core import binder; binder.bind(globals())\n",
    "from learntools.python.ex5 import *\n",
    "print('Setup complete.')"
   ]
  },
  {
   "cell_type": "markdown",
   "id": "eed015e6",
   "metadata": {
    "papermill": {
     "duration": 0.004468,
     "end_time": "2023-10-27T15:04:26.902966",
     "exception": false,
     "start_time": "2023-10-27T15:04:26.898498",
     "status": "completed"
    },
    "tags": []
   },
   "source": [
    "# 1.\n",
    "\n",
    "Have you ever felt debugging involved a bit of luck? The following program has a bug. Try to identify the bug and fix it."
   ]
  },
  {
   "cell_type": "code",
   "execution_count": 2,
   "id": "d607c663",
   "metadata": {
    "execution": {
     "iopub.execute_input": "2023-10-27T15:04:26.913862Z",
     "iopub.status.busy": "2023-10-27T15:04:26.913215Z",
     "iopub.status.idle": "2023-10-27T15:04:26.918208Z",
     "shell.execute_reply": "2023-10-27T15:04:26.917335Z"
    },
    "papermill": {
     "duration": 0.012453,
     "end_time": "2023-10-27T15:04:26.919935",
     "exception": false,
     "start_time": "2023-10-27T15:04:26.907482",
     "status": "completed"
    },
    "tags": []
   },
   "outputs": [],
   "source": [
    "def has_lucky_number(nums):\n",
    "    \"\"\"Return whether the given list of numbers is lucky. A lucky list contains\n",
    "    at least one number divisible by 7.\n",
    "    \"\"\"\n",
    "    for num in nums:\n",
    "        if num % 7 == 0:\n",
    "            return True\n",
    "        else:\n",
    "            return False"
   ]
  },
  {
   "cell_type": "markdown",
   "id": "6a86eb6a",
   "metadata": {
    "papermill": {
     "duration": 0.00417,
     "end_time": "2023-10-27T15:04:26.928738",
     "exception": false,
     "start_time": "2023-10-27T15:04:26.924568",
     "status": "completed"
    },
    "tags": []
   },
   "source": [
    "Try to identify the bug and fix it in the cell below:"
   ]
  },
  {
   "cell_type": "code",
   "execution_count": 3,
   "id": "122c567b",
   "metadata": {
    "execution": {
     "iopub.execute_input": "2023-10-27T15:04:26.939343Z",
     "iopub.status.busy": "2023-10-27T15:04:26.938865Z",
     "iopub.status.idle": "2023-10-27T15:04:26.950054Z",
     "shell.execute_reply": "2023-10-27T15:04:26.948551Z"
    },
    "papermill": {
     "duration": 0.019342,
     "end_time": "2023-10-27T15:04:26.952411",
     "exception": false,
     "start_time": "2023-10-27T15:04:26.933069",
     "status": "completed"
    },
    "tags": []
   },
   "outputs": [
    {
     "data": {
      "application/javascript": [
       "parent.postMessage({\"jupyterEvent\": \"custom.exercise_interaction\", \"data\": {\"outcomeType\": 1, \"valueTowardsCompletion\": 0.25, \"interactionType\": 1, \"questionType\": 2, \"questionId\": \"1_EarlyExitDebugging\", \"learnToolsVersion\": \"0.3.4\", \"failureMessage\": \"\", \"exceptionClass\": \"\", \"trace\": \"\"}}, \"*\")"
      ],
      "text/plain": [
       "<IPython.core.display.Javascript object>"
      ]
     },
     "metadata": {},
     "output_type": "display_data"
    },
    {
     "data": {
      "text/markdown": [
       "<span style=\"color:#33cc33\">Correct:</span> \n",
       "\n",
       "Remember that `return` causes a function to exit immediately. So our original implementation always ran for just one iteration. We can only return `False` if we've looked at every element of the list (and confirmed that none of them are lucky). Though we can return early if the answer is `True`:\n",
       "\n",
       "```python\n",
       "def has_lucky_number(nums):\n",
       "    for num in nums:\n",
       "        if num % 7 == 0:\n",
       "            return True\n",
       "    # We've exhausted the list without finding a lucky number\n",
       "    return False\n",
       "```\n",
       "\n",
       "Here's a one-line version using a list comprehension with Python's `any` function (you can read about what it does by calling `help(any)`):\n",
       "\n",
       "```python\n",
       "def has_lucky_number(nums):\n",
       "    return any([num % 7 == 0 for num in nums])\n",
       "```\n"
      ],
      "text/plain": [
       "Correct: \n",
       "\n",
       "Remember that `return` causes a function to exit immediately. So our original implementation always ran for just one iteration. We can only return `False` if we've looked at every element of the list (and confirmed that none of them are lucky). Though we can return early if the answer is `True`:\n",
       "\n",
       "```python\n",
       "def has_lucky_number(nums):\n",
       "    for num in nums:\n",
       "        if num % 7 == 0:\n",
       "            return True\n",
       "    # We've exhausted the list without finding a lucky number\n",
       "    return False\n",
       "```\n",
       "\n",
       "Here's a one-line version using a list comprehension with Python's `any` function (you can read about what it does by calling `help(any)`):\n",
       "\n",
       "```python\n",
       "def has_lucky_number(nums):\n",
       "    return any([num % 7 == 0 for num in nums])\n",
       "```"
      ]
     },
     "metadata": {},
     "output_type": "display_data"
    }
   ],
   "source": [
    "def has_lucky_number(nums):\n",
    "    \"\"\"Return whether the given list of numbers is lucky. A lucky list contains\n",
    "    at least one number divisible by 7.\n",
    "    \"\"\"\n",
    "    for num in nums:\n",
    "        if num % 7 == 0:\n",
    "            return True\n",
    "    return False\n",
    "\n",
    "# Check your answer\n",
    "q1.check()"
   ]
  },
  {
   "cell_type": "code",
   "execution_count": 4,
   "id": "956db4cf",
   "metadata": {
    "execution": {
     "iopub.execute_input": "2023-10-27T15:04:26.963909Z",
     "iopub.status.busy": "2023-10-27T15:04:26.963585Z",
     "iopub.status.idle": "2023-10-27T15:04:26.967830Z",
     "shell.execute_reply": "2023-10-27T15:04:26.966573Z"
    },
    "papermill": {
     "duration": 0.012642,
     "end_time": "2023-10-27T15:04:26.970216",
     "exception": false,
     "start_time": "2023-10-27T15:04:26.957574",
     "status": "completed"
    },
    "tags": []
   },
   "outputs": [],
   "source": [
    "#q1.hint()\n",
    "#q1.solution()"
   ]
  },
  {
   "cell_type": "markdown",
   "id": "d12ae61d",
   "metadata": {
    "papermill": {
     "duration": 0.004642,
     "end_time": "2023-10-27T15:04:26.979978",
     "exception": false,
     "start_time": "2023-10-27T15:04:26.975336",
     "status": "completed"
    },
    "tags": []
   },
   "source": [
    "# 2.\n",
    "Look at the Python expression below. What do you think we'll get when we run it? When you've made your prediction, uncomment the code and run the cell to see if you were right."
   ]
  },
  {
   "cell_type": "code",
   "execution_count": 5,
   "id": "e6e39d92",
   "metadata": {
    "execution": {
     "iopub.execute_input": "2023-10-27T15:04:26.990965Z",
     "iopub.status.busy": "2023-10-27T15:04:26.990614Z",
     "iopub.status.idle": "2023-10-27T15:04:26.994511Z",
     "shell.execute_reply": "2023-10-27T15:04:26.993282Z"
    },
    "papermill": {
     "duration": 0.011561,
     "end_time": "2023-10-27T15:04:26.996204",
     "exception": false,
     "start_time": "2023-10-27T15:04:26.984643",
     "status": "completed"
    },
    "tags": []
   },
   "outputs": [],
   "source": [
    "#[1, 2, 3, 4] > 2"
   ]
  },
  {
   "cell_type": "markdown",
   "id": "44df3998",
   "metadata": {
    "papermill": {
     "duration": 0.004572,
     "end_time": "2023-10-27T15:04:27.005774",
     "exception": false,
     "start_time": "2023-10-27T15:04:27.001202",
     "status": "completed"
    },
    "tags": []
   },
   "source": [
    "R and Python have some libraries (like numpy and pandas) compare each element of the list to 2 (i.e. do an 'element-wise' comparison) and give us a list of booleans like `[False, False, True, True]`. \n",
    "\n",
    "Implement a function that reproduces this behaviour, returning a list of booleans corresponding to whether the corresponding element is greater than n."
   ]
  },
  {
   "cell_type": "code",
   "execution_count": 6,
   "id": "4c6e21f4",
   "metadata": {
    "execution": {
     "iopub.execute_input": "2023-10-27T15:04:27.017159Z",
     "iopub.status.busy": "2023-10-27T15:04:27.016744Z",
     "iopub.status.idle": "2023-10-27T15:04:27.025794Z",
     "shell.execute_reply": "2023-10-27T15:04:27.024680Z"
    },
    "papermill": {
     "duration": 0.017119,
     "end_time": "2023-10-27T15:04:27.027659",
     "exception": false,
     "start_time": "2023-10-27T15:04:27.010540",
     "status": "completed"
    },
    "tags": []
   },
   "outputs": [
    {
     "data": {
      "application/javascript": [
       "parent.postMessage({\"jupyterEvent\": \"custom.exercise_interaction\", \"data\": {\"outcomeType\": 1, \"valueTowardsCompletion\": 0.25, \"interactionType\": 1, \"questionType\": 2, \"questionId\": \"2_ElementWiseComparison\", \"learnToolsVersion\": \"0.3.4\", \"failureMessage\": \"\", \"exceptionClass\": \"\", \"trace\": \"\"}}, \"*\")"
      ],
      "text/plain": [
       "<IPython.core.display.Javascript object>"
      ]
     },
     "metadata": {},
     "output_type": "display_data"
    },
    {
     "data": {
      "text/markdown": [
       "<span style=\"color:#33cc33\">Correct:</span> \n",
       "\n",
       "Here's one solution:\n",
       "```python\n",
       "def elementwise_greater_than(L, thresh):\n",
       "    res = []\n",
       "    for ele in L:\n",
       "        res.append(ele > thresh)\n",
       "    return res\n",
       "```\n",
       "\n",
       "And here's the list comprehension version:\n",
       "```python\n",
       "def elementwise_greater_than(L, thresh):\n",
       "    return [ele > thresh for ele in L]\n",
       "```\n"
      ],
      "text/plain": [
       "Correct: \n",
       "\n",
       "Here's one solution:\n",
       "```python\n",
       "def elementwise_greater_than(L, thresh):\n",
       "    res = []\n",
       "    for ele in L:\n",
       "        res.append(ele > thresh)\n",
       "    return res\n",
       "```\n",
       "\n",
       "And here's the list comprehension version:\n",
       "```python\n",
       "def elementwise_greater_than(L, thresh):\n",
       "    return [ele > thresh for ele in L]\n",
       "```"
      ]
     },
     "metadata": {},
     "output_type": "display_data"
    }
   ],
   "source": [
    "def elementwise_greater_than(L, thresh):\n",
    "    \"\"\"Return a list with the same length as L, where the value at index i is \n",
    "    True if L[i] is greater than thresh, and False otherwise.\n",
    "    \n",
    "    >>> elementwise_greater_than([1, 2, 3, 4], 2)\n",
    "    [False, False, True, True]\n",
    "    \"\"\"\n",
    "    lista_booleans = []\n",
    "    for i in range(len(L)):\n",
    "        if L[i]>thresh:\n",
    "            lista_booleans.append(True)\n",
    "        else:\n",
    "            lista_booleans.append(False)\n",
    "    return lista_booleans\n",
    "\n",
    "# Check your answer\n",
    "q2.check()"
   ]
  },
  {
   "cell_type": "code",
   "execution_count": 7,
   "id": "a7b40cc5",
   "metadata": {
    "execution": {
     "iopub.execute_input": "2023-10-27T15:04:27.040504Z",
     "iopub.status.busy": "2023-10-27T15:04:27.039239Z",
     "iopub.status.idle": "2023-10-27T15:04:27.044470Z",
     "shell.execute_reply": "2023-10-27T15:04:27.043309Z"
    },
    "papermill": {
     "duration": 0.013408,
     "end_time": "2023-10-27T15:04:27.046284",
     "exception": false,
     "start_time": "2023-10-27T15:04:27.032876",
     "status": "completed"
    },
    "tags": []
   },
   "outputs": [],
   "source": [
    "#q2.solution()"
   ]
  },
  {
   "cell_type": "markdown",
   "id": "18606702",
   "metadata": {
    "papermill": {
     "duration": 0.005226,
     "end_time": "2023-10-27T15:04:27.056792",
     "exception": false,
     "start_time": "2023-10-27T15:04:27.051566",
     "status": "completed"
    },
    "tags": []
   },
   "source": [
    "# 3.\n",
    "\n",
    "Complete the body of the function below according to its docstring."
   ]
  },
  {
   "cell_type": "code",
   "execution_count": 8,
   "id": "4005181e",
   "metadata": {
    "execution": {
     "iopub.execute_input": "2023-10-27T15:04:27.068515Z",
     "iopub.status.busy": "2023-10-27T15:04:27.068200Z",
     "iopub.status.idle": "2023-10-27T15:04:27.078359Z",
     "shell.execute_reply": "2023-10-27T15:04:27.076988Z"
    },
    "papermill": {
     "duration": 0.018902,
     "end_time": "2023-10-27T15:04:27.080797",
     "exception": false,
     "start_time": "2023-10-27T15:04:27.061895",
     "status": "completed"
    },
    "tags": []
   },
   "outputs": [
    {
     "data": {
      "application/javascript": [
       "parent.postMessage({\"jupyterEvent\": \"custom.exercise_interaction\", \"data\": {\"outcomeType\": 1, \"valueTowardsCompletion\": 0.25, \"interactionType\": 1, \"questionType\": 2, \"questionId\": \"3_BoringMenu\", \"learnToolsVersion\": \"0.3.4\", \"failureMessage\": \"\", \"exceptionClass\": \"\", \"trace\": \"\"}}, \"*\")"
      ],
      "text/plain": [
       "<IPython.core.display.Javascript object>"
      ]
     },
     "metadata": {},
     "output_type": "display_data"
    },
    {
     "data": {
      "text/markdown": [
       "<span style=\"color:#33cc33\">Correct:</span> \n",
       "\n",
       "\n",
       "\n",
       "```python\n",
       "def menu_is_boring(meals):\n",
       "    # Iterate over all indices of the list, except the last one\n",
       "    for i in range(len(meals)-1):\n",
       "        if meals[i] == meals[i+1]:\n",
       "            return True\n",
       "    return False\n",
       "```\n",
       "\n",
       "The key to our solution is the call to `range`. `range(len(meals))` would give us all the indices of `meals`. If we had used that range, the last iteration of the loop would be comparing the last element to the element after it, which is... `IndexError`! `range(len(meals)-1)` gives us all the indices except the index of the last element.\n",
       "\n",
       "But don't we need to check if `meals` is empty? Turns out that `range(0) == range(-1)` - they're both empty. So if `meals` has length 0 or 1, we just won't do any iterations of our for loop.\n"
      ],
      "text/plain": [
       "Correct: \n",
       "\n",
       "\n",
       "\n",
       "```python\n",
       "def menu_is_boring(meals):\n",
       "    # Iterate over all indices of the list, except the last one\n",
       "    for i in range(len(meals)-1):\n",
       "        if meals[i] == meals[i+1]:\n",
       "            return True\n",
       "    return False\n",
       "```\n",
       "\n",
       "The key to our solution is the call to `range`. `range(len(meals))` would give us all the indices of `meals`. If we had used that range, the last iteration of the loop would be comparing the last element to the element after it, which is... `IndexError`! `range(len(meals)-1)` gives us all the indices except the index of the last element.\n",
       "\n",
       "But don't we need to check if `meals` is empty? Turns out that `range(0) == range(-1)` - they're both empty. So if `meals` has length 0 or 1, we just won't do any iterations of our for loop."
      ]
     },
     "metadata": {},
     "output_type": "display_data"
    }
   ],
   "source": [
    "def menu_is_boring(meals):\n",
    "    \"\"\"Given a list of meals served over some period of time, return True if the\n",
    "    same meal has ever been served two days in a row, and False otherwise.\n",
    "    \"\"\"\n",
    "    for i in range(len(meals)-1):\n",
    "        if meals[i] == meals[i+1]:\n",
    "            return True\n",
    "    return False\n",
    "    pass\n",
    "\n",
    "# Check your answer\n",
    "q3.check()"
   ]
  },
  {
   "cell_type": "code",
   "execution_count": 9,
   "id": "f28c1bdb",
   "metadata": {
    "execution": {
     "iopub.execute_input": "2023-10-27T15:04:27.093891Z",
     "iopub.status.busy": "2023-10-27T15:04:27.093590Z",
     "iopub.status.idle": "2023-10-27T15:04:27.098251Z",
     "shell.execute_reply": "2023-10-27T15:04:27.096888Z"
    },
    "papermill": {
     "duration": 0.014606,
     "end_time": "2023-10-27T15:04:27.101008",
     "exception": false,
     "start_time": "2023-10-27T15:04:27.086402",
     "status": "completed"
    },
    "tags": []
   },
   "outputs": [],
   "source": [
    "#q3.hint()\n",
    "#q3.solution()"
   ]
  },
  {
   "cell_type": "markdown",
   "id": "0133b9f8",
   "metadata": {
    "papermill": {
     "duration": 0.00531,
     "end_time": "2023-10-27T15:04:27.112340",
     "exception": false,
     "start_time": "2023-10-27T15:04:27.107030",
     "status": "completed"
    },
    "tags": []
   },
   "source": [
    "# 4. <span title=\"A bit spicy\" style=\"color: darkgreen \">🌶️</span>\n",
    "\n",
    "Next to the Blackjack table, the Python Challenge Casino has a slot machine. You can get a result from the slot machine by calling `play_slot_machine()`. The number it returns is your winnings in dollars. Usually it returns 0.  But sometimes you'll get lucky and get a big payday. Try running it below:"
   ]
  },
  {
   "cell_type": "code",
   "execution_count": 10,
   "id": "add93b3c",
   "metadata": {
    "execution": {
     "iopub.execute_input": "2023-10-27T15:04:27.125153Z",
     "iopub.status.busy": "2023-10-27T15:04:27.124766Z",
     "iopub.status.idle": "2023-10-27T15:04:27.131340Z",
     "shell.execute_reply": "2023-10-27T15:04:27.130330Z"
    },
    "papermill": {
     "duration": 0.015225,
     "end_time": "2023-10-27T15:04:27.133227",
     "exception": false,
     "start_time": "2023-10-27T15:04:27.118002",
     "status": "completed"
    },
    "tags": []
   },
   "outputs": [
    {
     "data": {
      "text/plain": [
       "1.5"
      ]
     },
     "execution_count": 10,
     "metadata": {},
     "output_type": "execute_result"
    }
   ],
   "source": [
    "play_slot_machine()"
   ]
  },
  {
   "cell_type": "markdown",
   "id": "efbf7d0a",
   "metadata": {
    "papermill": {
     "duration": 0.005382,
     "end_time": "2023-10-27T15:04:27.144412",
     "exception": false,
     "start_time": "2023-10-27T15:04:27.139030",
     "status": "completed"
    },
    "tags": []
   },
   "source": [
    "By the way, did we mention that each play costs $1? Don't worry, we'll send you the bill later.\n",
    "\n",
    "On average, how much money can you expect to gain (or lose) every time you play the machine?  The casino keeps it a secret, but you can estimate the average value of each pull using a technique called the **Monte Carlo method**. To estimate the average outcome, we simulate the scenario many times, and return the average result.\n",
    "\n",
    "Complete the following function to calculate the average value per play of the slot machine."
   ]
  },
  {
   "cell_type": "code",
   "execution_count": 11,
   "id": "37930b0f",
   "metadata": {
    "execution": {
     "iopub.execute_input": "2023-10-27T15:04:27.158220Z",
     "iopub.status.busy": "2023-10-27T15:04:27.156960Z",
     "iopub.status.idle": "2023-10-27T15:04:27.162924Z",
     "shell.execute_reply": "2023-10-27T15:04:27.161900Z"
    },
    "papermill": {
     "duration": 0.0148,
     "end_time": "2023-10-27T15:04:27.165034",
     "exception": false,
     "start_time": "2023-10-27T15:04:27.150234",
     "status": "completed"
    },
    "tags": []
   },
   "outputs": [],
   "source": [
    "def estimate_average_slot_payout(n_runs):\n",
    "    \"\"\"Run the slot machine n_runs times and return the average net profit per run.\n",
    "    Example calls (note that return value is nondeterministic!):\n",
    "    >>> estimate_average_slot_payout(1)\n",
    "    -1\n",
    "    >>> estimate_average_slot_payout(1)\n",
    "    0.5\n",
    "    \"\"\"\n",
    "    def estimate_average_slot_payout(n_runs):\n",
    "        # Play slot machine n_runs times, calculate payout of each\n",
    "        pay_out = [play_slot_machine()-1 for i in range(n_runs)]\n",
    "        # Calculate the average value\n",
    "        avg_payout = sum(pay_out) / n_runs\n",
    "    return avg_payout"
   ]
  },
  {
   "cell_type": "markdown",
   "id": "18b2167e",
   "metadata": {
    "papermill": {
     "duration": 0.00581,
     "end_time": "2023-10-27T15:04:27.176496",
     "exception": false,
     "start_time": "2023-10-27T15:04:27.170686",
     "status": "completed"
    },
    "tags": []
   },
   "source": [
    "When you think you know the expected value per spin, run the code cell below to view the solution and get credit for answering the question."
   ]
  },
  {
   "cell_type": "code",
   "execution_count": 12,
   "id": "9cff61ec",
   "metadata": {
    "execution": {
     "iopub.execute_input": "2023-10-27T15:04:27.189566Z",
     "iopub.status.busy": "2023-10-27T15:04:27.189217Z",
     "iopub.status.idle": "2023-10-27T15:04:27.198982Z",
     "shell.execute_reply": "2023-10-27T15:04:27.197645Z"
    },
    "papermill": {
     "duration": 0.018975,
     "end_time": "2023-10-27T15:04:27.201103",
     "exception": false,
     "start_time": "2023-10-27T15:04:27.182128",
     "status": "completed"
    },
    "tags": []
   },
   "outputs": [
    {
     "data": {
      "application/javascript": [
       "parent.postMessage({\"jupyterEvent\": \"custom.exercise_interaction\", \"data\": {\"interactionType\": 3, \"questionType\": 4, \"questionId\": \"4_ExpectedSlotsPayout\", \"learnToolsVersion\": \"0.3.4\", \"valueTowardsCompletion\": 0.0, \"failureMessage\": \"\", \"exceptionClass\": \"\", \"trace\": \"\", \"outcomeType\": 4}}, \"*\")"
      ],
      "text/plain": [
       "<IPython.core.display.Javascript object>"
      ]
     },
     "metadata": {},
     "output_type": "display_data"
    },
    {
     "data": {
      "text/markdown": [
       "<span style=\"color:#33cc99\">Solution:</span> \n",
       "    \n",
       "The exact expected value of one pull of the slot machine is 0.025 - i.e. a little more than 2 cents.  See?  Not every game in the Python Challenge Casino is rigged against the player!\n",
       "\n",
       "In order to get this answer, you'll need to implement the `estimate_average_slot_payout(n_runs)` function to simulate pulling the slot machine `n_runs` times.  It should return the payout averaged over those `n_runs`.\n",
       "\n",
       "Then, once the function is defined, in order to estimate the average slot payout, we need only call the function.\n",
       "\n",
       "Because of the high variance of the outcome (there are some very rare high payout results that significantly affect the average) you might need to run your function with a very high value of `n_runs` to get a stable answer close to the true expectation.  For instance, you might use a value for `n_runs` of 1000000.\n",
       "\n",
       "Here's an example for how the function could look:\n",
       "```python\n",
       "def estimate_average_slot_payout(n_runs):\n",
       "    # Play slot machine n_runs times, calculate payout of each\n",
       "    payouts = [play_slot_machine()-1 for i in range(n_runs)]\n",
       "    # Calculate the average value\n",
       "    avg_payout = sum(payouts) / n_runs\n",
       "    return avg_payout\n",
       "    \n",
       "estimate_average_slot_payout(10000000)\n",
       "\n",
       "```\n",
       "\n",
       "This should return an answer close to 0.025!\n",
       "            \n"
      ],
      "text/plain": [
       "Solution: \n",
       "    \n",
       "The exact expected value of one pull of the slot machine is 0.025 - i.e. a little more than 2 cents.  See?  Not every game in the Python Challenge Casino is rigged against the player!\n",
       "\n",
       "In order to get this answer, you'll need to implement the `estimate_average_slot_payout(n_runs)` function to simulate pulling the slot machine `n_runs` times.  It should return the payout averaged over those `n_runs`.\n",
       "\n",
       "Then, once the function is defined, in order to estimate the average slot payout, we need only call the function.\n",
       "\n",
       "Because of the high variance of the outcome (there are some very rare high payout results that significantly affect the average) you might need to run your function with a very high value of `n_runs` to get a stable answer close to the true expectation.  For instance, you might use a value for `n_runs` of 1000000.\n",
       "\n",
       "Here's an example for how the function could look:\n",
       "```python\n",
       "def estimate_average_slot_payout(n_runs):\n",
       "    # Play slot machine n_runs times, calculate payout of each\n",
       "    payouts = [play_slot_machine()-1 for i in range(n_runs)]\n",
       "    # Calculate the average value\n",
       "    avg_payout = sum(payouts) / n_runs\n",
       "    return avg_payout\n",
       "    \n",
       "estimate_average_slot_payout(10000000)\n",
       "\n",
       "```\n",
       "\n",
       "This should return an answer close to 0.025!\n",
       "            "
      ]
     },
     "metadata": {},
     "output_type": "display_data"
    }
   ],
   "source": [
    "# Check your answer (Run this code cell to receive credit!)\n",
    "q4.solution()"
   ]
  },
  {
   "cell_type": "markdown",
   "id": "bd2accab",
   "metadata": {
    "papermill": {
     "duration": 0.005662,
     "end_time": "2023-10-27T15:04:27.212789",
     "exception": false,
     "start_time": "2023-10-27T15:04:27.207127",
     "status": "completed"
    },
    "tags": []
   },
   "source": [
    "# Keep Going\n",
    "\n",
    "Many programmers report that dictionaries are their favorite data structure. You'll get to **[learn about them](https://www.kaggle.com/colinmorris/strings-and-dictionaries)** (as well as strings) in the next lesson."
   ]
  },
  {
   "cell_type": "markdown",
   "id": "aecf1a28",
   "metadata": {
    "papermill": {
     "duration": 0.005544,
     "end_time": "2023-10-27T15:04:27.224030",
     "exception": false,
     "start_time": "2023-10-27T15:04:27.218486",
     "status": "completed"
    },
    "tags": []
   },
   "source": [
    "---\n",
    "\n",
    "\n",
    "\n",
    "\n",
    "*Have questions or comments? Visit the [course discussion forum](https://www.kaggle.com/learn/python/discussion) to chat with other learners.*"
   ]
  }
 ],
 "metadata": {
  "kernelspec": {
   "display_name": "Python 3",
   "language": "python",
   "name": "python3"
  },
  "language_info": {
   "codemirror_mode": {
    "name": "ipython",
    "version": 3
   },
   "file_extension": ".py",
   "mimetype": "text/x-python",
   "name": "python",
   "nbconvert_exporter": "python",
   "pygments_lexer": "ipython3",
   "version": "3.10.12"
  },
  "papermill": {
   "default_parameters": {},
   "duration": 5.444393,
   "end_time": "2023-10-27T15:04:27.649018",
   "environment_variables": {},
   "exception": null,
   "input_path": "__notebook__.ipynb",
   "output_path": "__notebook__.ipynb",
   "parameters": {},
   "start_time": "2023-10-27T15:04:22.204625",
   "version": "2.4.0"
  }
 },
 "nbformat": 4,
 "nbformat_minor": 5
}
