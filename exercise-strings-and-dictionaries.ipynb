{
 "cells": [
  {
   "cell_type": "markdown",
   "id": "92427ebf",
   "metadata": {
    "papermill": {
     "duration": 0.006546,
     "end_time": "2023-10-27T16:17:18.719286",
     "exception": false,
     "start_time": "2023-10-27T16:17:18.712740",
     "status": "completed"
    },
    "tags": []
   },
   "source": [
    "**This notebook is an exercise in the [Python](https://www.kaggle.com/learn/python) course.  You can reference the tutorial at [this link](https://www.kaggle.com/colinmorris/strings-and-dictionaries).**\n",
    "\n",
    "---\n"
   ]
  },
  {
   "cell_type": "markdown",
   "id": "2bb3b0c8",
   "metadata": {
    "papermill": {
     "duration": 0.004176,
     "end_time": "2023-10-27T16:17:18.728358",
     "exception": false,
     "start_time": "2023-10-27T16:17:18.724182",
     "status": "completed"
    },
    "tags": []
   },
   "source": [
    "You are almost done with the course. Nice job!\n",
    "\n",
    "We have a couple more interesting problems for you before you go. \n",
    "\n",
    "As always, run the setup code below before working on the questions."
   ]
  },
  {
   "cell_type": "code",
   "execution_count": 1,
   "id": "8d950f17",
   "metadata": {
    "execution": {
     "iopub.execute_input": "2023-10-27T16:17:18.739558Z",
     "iopub.status.busy": "2023-10-27T16:17:18.738590Z",
     "iopub.status.idle": "2023-10-27T16:17:19.137453Z",
     "shell.execute_reply": "2023-10-27T16:17:19.135215Z"
    },
    "papermill": {
     "duration": 0.406942,
     "end_time": "2023-10-27T16:17:19.139726",
     "exception": false,
     "start_time": "2023-10-27T16:17:18.732784",
     "status": "completed"
    },
    "tags": []
   },
   "outputs": [
    {
     "name": "stdout",
     "output_type": "stream",
     "text": [
      "Setup complete.\n"
     ]
    }
   ],
   "source": [
    "from learntools.core import binder; binder.bind(globals())\n",
    "from learntools.python.ex6 import *\n",
    "print('Setup complete.')"
   ]
  },
  {
   "cell_type": "markdown",
   "id": "14e76f7a",
   "metadata": {
    "papermill": {
     "duration": 0.004321,
     "end_time": "2023-10-27T16:17:19.148624",
     "exception": false,
     "start_time": "2023-10-27T16:17:19.144303",
     "status": "completed"
    },
    "tags": []
   },
   "source": [
    "Let's start with a string lightning round to warm up. What are the lengths of the strings below?\n",
    "\n",
    "For each of the five strings below, predict what `len()` would return when passed that string. Use the variable `length` to record your answer, then run the cell to check whether you were right.  \n",
    "\n",
    "# 0a."
   ]
  },
  {
   "cell_type": "code",
   "execution_count": 2,
   "id": "cbd14f24",
   "metadata": {
    "execution": {
     "iopub.execute_input": "2023-10-27T16:17:19.159462Z",
     "iopub.status.busy": "2023-10-27T16:17:19.158573Z",
     "iopub.status.idle": "2023-10-27T16:17:19.167286Z",
     "shell.execute_reply": "2023-10-27T16:17:19.166550Z"
    },
    "papermill": {
     "duration": 0.01592,
     "end_time": "2023-10-27T16:17:19.168959",
     "exception": false,
     "start_time": "2023-10-27T16:17:19.153039",
     "status": "completed"
    },
    "tags": []
   },
   "outputs": [
    {
     "data": {
      "application/javascript": [
       "parent.postMessage({\"jupyterEvent\": \"custom.exercise_interaction\", \"data\": {\"outcomeType\": 4, \"interactionType\": 1, \"questionType\": 1, \"questionId\": \"0.1_ZA\", \"learnToolsVersion\": \"0.3.4\", \"valueTowardsCompletion\": 0.0, \"failureMessage\": \"\", \"exceptionClass\": \"\", \"trace\": \"\"}}, \"*\")"
      ],
      "text/plain": [
       "<IPython.core.display.Javascript object>"
      ]
     },
     "metadata": {},
     "output_type": "display_data"
    },
    {
     "data": {
      "text/markdown": [
       "<span style=\"color:#ccaa33\">Check:</span> When you've updated the starter code, `check()` will tell you whether your code is correct. You need to update the code that creates variable `length`"
      ],
      "text/plain": [
       "Check: When you've updated the starter code, `check()` will tell you whether your code is correct. You need to update the code that creates variable `length`"
      ]
     },
     "metadata": {},
     "output_type": "display_data"
    }
   ],
   "source": [
    "a = \"\"\n",
    "length = ____\n",
    "q0.a.check()"
   ]
  },
  {
   "cell_type": "markdown",
   "id": "86356ec4",
   "metadata": {
    "papermill": {
     "duration": 0.004541,
     "end_time": "2023-10-27T16:17:19.178379",
     "exception": false,
     "start_time": "2023-10-27T16:17:19.173838",
     "status": "completed"
    },
    "tags": []
   },
   "source": [
    "# 0b."
   ]
  },
  {
   "cell_type": "code",
   "execution_count": 3,
   "id": "dadbcc42",
   "metadata": {
    "execution": {
     "iopub.execute_input": "2023-10-27T16:17:19.190003Z",
     "iopub.status.busy": "2023-10-27T16:17:19.189342Z",
     "iopub.status.idle": "2023-10-27T16:17:19.197525Z",
     "shell.execute_reply": "2023-10-27T16:17:19.196485Z"
    },
    "papermill": {
     "duration": 0.016588,
     "end_time": "2023-10-27T16:17:19.199712",
     "exception": false,
     "start_time": "2023-10-27T16:17:19.183124",
     "status": "completed"
    },
    "tags": []
   },
   "outputs": [
    {
     "data": {
      "application/javascript": [
       "parent.postMessage({\"jupyterEvent\": \"custom.exercise_interaction\", \"data\": {\"outcomeType\": 4, \"interactionType\": 1, \"questionType\": 1, \"questionId\": \"0.2_ZB\", \"learnToolsVersion\": \"0.3.4\", \"valueTowardsCompletion\": 0.0, \"failureMessage\": \"\", \"exceptionClass\": \"\", \"trace\": \"\"}}, \"*\")"
      ],
      "text/plain": [
       "<IPython.core.display.Javascript object>"
      ]
     },
     "metadata": {},
     "output_type": "display_data"
    },
    {
     "data": {
      "text/markdown": [
       "<span style=\"color:#ccaa33\">Check:</span> When you've updated the starter code, `check()` will tell you whether your code is correct. You need to update the code that creates variable `length`"
      ],
      "text/plain": [
       "Check: When you've updated the starter code, `check()` will tell you whether your code is correct. You need to update the code that creates variable `length`"
      ]
     },
     "metadata": {},
     "output_type": "display_data"
    }
   ],
   "source": [
    "b = \"it's ok\"\n",
    "length = ____\n",
    "q0.b.check()"
   ]
  },
  {
   "cell_type": "markdown",
   "id": "5563e1e6",
   "metadata": {
    "papermill": {
     "duration": 0.00483,
     "end_time": "2023-10-27T16:17:19.209792",
     "exception": false,
     "start_time": "2023-10-27T16:17:19.204962",
     "status": "completed"
    },
    "tags": []
   },
   "source": [
    "# 0c."
   ]
  },
  {
   "cell_type": "code",
   "execution_count": 4,
   "id": "12e32f31",
   "metadata": {
    "execution": {
     "iopub.execute_input": "2023-10-27T16:17:19.221481Z",
     "iopub.status.busy": "2023-10-27T16:17:19.221121Z",
     "iopub.status.idle": "2023-10-27T16:17:19.228862Z",
     "shell.execute_reply": "2023-10-27T16:17:19.227854Z"
    },
    "papermill": {
     "duration": 0.015968,
     "end_time": "2023-10-27T16:17:19.230817",
     "exception": false,
     "start_time": "2023-10-27T16:17:19.214849",
     "status": "completed"
    },
    "tags": []
   },
   "outputs": [
    {
     "data": {
      "application/javascript": [
       "parent.postMessage({\"jupyterEvent\": \"custom.exercise_interaction\", \"data\": {\"outcomeType\": 4, \"interactionType\": 1, \"questionType\": 1, \"questionId\": \"0.3_ZC\", \"learnToolsVersion\": \"0.3.4\", \"valueTowardsCompletion\": 0.0, \"failureMessage\": \"\", \"exceptionClass\": \"\", \"trace\": \"\"}}, \"*\")"
      ],
      "text/plain": [
       "<IPython.core.display.Javascript object>"
      ]
     },
     "metadata": {},
     "output_type": "display_data"
    },
    {
     "data": {
      "text/markdown": [
       "<span style=\"color:#ccaa33\">Check:</span> When you've updated the starter code, `check()` will tell you whether your code is correct. You need to update the code that creates variable `length`"
      ],
      "text/plain": [
       "Check: When you've updated the starter code, `check()` will tell you whether your code is correct. You need to update the code that creates variable `length`"
      ]
     },
     "metadata": {},
     "output_type": "display_data"
    }
   ],
   "source": [
    "c = 'it\\'s ok'\n",
    "length = ____\n",
    "q0.c.check()"
   ]
  },
  {
   "cell_type": "markdown",
   "id": "dce892ab",
   "metadata": {
    "papermill": {
     "duration": 0.005177,
     "end_time": "2023-10-27T16:17:19.241277",
     "exception": false,
     "start_time": "2023-10-27T16:17:19.236100",
     "status": "completed"
    },
    "tags": []
   },
   "source": [
    "# 0d."
   ]
  },
  {
   "cell_type": "code",
   "execution_count": 5,
   "id": "41c29789",
   "metadata": {
    "execution": {
     "iopub.execute_input": "2023-10-27T16:17:19.253273Z",
     "iopub.status.busy": "2023-10-27T16:17:19.252911Z",
     "iopub.status.idle": "2023-10-27T16:17:19.261878Z",
     "shell.execute_reply": "2023-10-27T16:17:19.260928Z"
    },
    "papermill": {
     "duration": 0.017282,
     "end_time": "2023-10-27T16:17:19.263767",
     "exception": false,
     "start_time": "2023-10-27T16:17:19.246485",
     "status": "completed"
    },
    "tags": []
   },
   "outputs": [
    {
     "data": {
      "application/javascript": [
       "parent.postMessage({\"jupyterEvent\": \"custom.exercise_interaction\", \"data\": {\"outcomeType\": 4, \"interactionType\": 1, \"questionType\": 1, \"questionId\": \"0.4_ZD\", \"learnToolsVersion\": \"0.3.4\", \"valueTowardsCompletion\": 0.0, \"failureMessage\": \"\", \"exceptionClass\": \"\", \"trace\": \"\"}}, \"*\")"
      ],
      "text/plain": [
       "<IPython.core.display.Javascript object>"
      ]
     },
     "metadata": {},
     "output_type": "display_data"
    },
    {
     "data": {
      "text/markdown": [
       "<span style=\"color:#ccaa33\">Check:</span> When you've updated the starter code, `check()` will tell you whether your code is correct. You need to update the code that creates variable `length`"
      ],
      "text/plain": [
       "Check: When you've updated the starter code, `check()` will tell you whether your code is correct. You need to update the code that creates variable `length`"
      ]
     },
     "metadata": {},
     "output_type": "display_data"
    }
   ],
   "source": [
    "d = \"\"\"hey\"\"\"\n",
    "length = ____\n",
    "q0.d.check()"
   ]
  },
  {
   "cell_type": "markdown",
   "id": "0c777c39",
   "metadata": {
    "papermill": {
     "duration": 0.005405,
     "end_time": "2023-10-27T16:17:19.274773",
     "exception": false,
     "start_time": "2023-10-27T16:17:19.269368",
     "status": "completed"
    },
    "tags": []
   },
   "source": [
    "# 0e."
   ]
  },
  {
   "cell_type": "code",
   "execution_count": 6,
   "id": "b798d9bd",
   "metadata": {
    "execution": {
     "iopub.execute_input": "2023-10-27T16:17:19.287525Z",
     "iopub.status.busy": "2023-10-27T16:17:19.287204Z",
     "iopub.status.idle": "2023-10-27T16:17:19.294670Z",
     "shell.execute_reply": "2023-10-27T16:17:19.293834Z"
    },
    "papermill": {
     "duration": 0.016359,
     "end_time": "2023-10-27T16:17:19.296676",
     "exception": false,
     "start_time": "2023-10-27T16:17:19.280317",
     "status": "completed"
    },
    "tags": []
   },
   "outputs": [
    {
     "data": {
      "application/javascript": [
       "parent.postMessage({\"jupyterEvent\": \"custom.exercise_interaction\", \"data\": {\"outcomeType\": 4, \"interactionType\": 1, \"questionType\": 1, \"questionId\": \"0.5_ZE\", \"learnToolsVersion\": \"0.3.4\", \"valueTowardsCompletion\": 0.0, \"failureMessage\": \"\", \"exceptionClass\": \"\", \"trace\": \"\"}}, \"*\")"
      ],
      "text/plain": [
       "<IPython.core.display.Javascript object>"
      ]
     },
     "metadata": {},
     "output_type": "display_data"
    },
    {
     "data": {
      "text/markdown": [
       "<span style=\"color:#ccaa33\">Check:</span> When you've updated the starter code, `check()` will tell you whether your code is correct. You need to update the code that creates variable `length`"
      ],
      "text/plain": [
       "Check: When you've updated the starter code, `check()` will tell you whether your code is correct. You need to update the code that creates variable `length`"
      ]
     },
     "metadata": {},
     "output_type": "display_data"
    }
   ],
   "source": [
    "e = '\\n'\n",
    "length = ____\n",
    "q0.e.check()"
   ]
  },
  {
   "cell_type": "markdown",
   "id": "af108c51",
   "metadata": {
    "papermill": {
     "duration": 0.005653,
     "end_time": "2023-10-27T16:17:19.308381",
     "exception": false,
     "start_time": "2023-10-27T16:17:19.302728",
     "status": "completed"
    },
    "tags": []
   },
   "source": [
    "# 1.\n",
    "\n",
    "There is a saying that \"Data scientists spend 80% of their time cleaning data, and 20% of their time complaining about cleaning data.\" Let's see if you can write a function to help clean US zip code data. Given a string, it should return whether or not that string represents a valid zip code. For our purposes, a valid zip code is any string consisting of exactly 5 digits.\n",
    "\n",
    "HINT: `str` has a method that will be useful here. Use `help(str)` to review a list of string methods."
   ]
  },
  {
   "cell_type": "code",
   "execution_count": 7,
   "id": "bf6a0aef",
   "metadata": {
    "execution": {
     "iopub.execute_input": "2023-10-27T16:17:19.321558Z",
     "iopub.status.busy": "2023-10-27T16:17:19.321204Z",
     "iopub.status.idle": "2023-10-27T16:17:19.329122Z",
     "shell.execute_reply": "2023-10-27T16:17:19.328180Z"
    },
    "papermill": {
     "duration": 0.017059,
     "end_time": "2023-10-27T16:17:19.331230",
     "exception": false,
     "start_time": "2023-10-27T16:17:19.314171",
     "status": "completed"
    },
    "tags": []
   },
   "outputs": [
    {
     "data": {
      "application/javascript": [
       "parent.postMessage({\"jupyterEvent\": \"custom.exercise_interaction\", \"data\": {\"outcomeType\": 4, \"interactionType\": 1, \"questionType\": 2, \"questionId\": \"1_ZipValidator\", \"learnToolsVersion\": \"0.3.4\", \"valueTowardsCompletion\": 0.0, \"failureMessage\": \"\", \"exceptionClass\": \"\", \"trace\": \"\"}}, \"*\")"
      ],
      "text/plain": [
       "<IPython.core.display.Javascript object>"
      ]
     },
     "metadata": {},
     "output_type": "display_data"
    },
    {
     "data": {
      "text/markdown": [
       "<span style=\"color:#ccaa33\">Check:</span> When you've updated the starter code, `check()` will tell you whether your code is correct. "
      ],
      "text/plain": [
       "Check: When you've updated the starter code, `check()` will tell you whether your code is correct. "
      ]
     },
     "metadata": {},
     "output_type": "display_data"
    }
   ],
   "source": [
    "def is_valid_zip(zip_code):\n",
    "    \"\"\"Returns whether the input string is a valid (5 digit) zip code\n",
    "    \"\"\"\n",
    "    pass\n",
    "\n",
    "# Check your answer\n",
    "q1.check()"
   ]
  },
  {
   "cell_type": "code",
   "execution_count": 8,
   "id": "8c08552d",
   "metadata": {
    "execution": {
     "iopub.execute_input": "2023-10-27T16:17:19.345712Z",
     "iopub.status.busy": "2023-10-27T16:17:19.345327Z",
     "iopub.status.idle": "2023-10-27T16:17:19.349776Z",
     "shell.execute_reply": "2023-10-27T16:17:19.348607Z"
    },
    "papermill": {
     "duration": 0.014208,
     "end_time": "2023-10-27T16:17:19.351888",
     "exception": false,
     "start_time": "2023-10-27T16:17:19.337680",
     "status": "completed"
    },
    "tags": []
   },
   "outputs": [],
   "source": [
    "#q1.hint()\n",
    "#q1.solution()"
   ]
  },
  {
   "cell_type": "markdown",
   "id": "8b7eec40",
   "metadata": {
    "papermill": {
     "duration": 0.006211,
     "end_time": "2023-10-27T16:17:19.364596",
     "exception": false,
     "start_time": "2023-10-27T16:17:19.358385",
     "status": "completed"
    },
    "tags": []
   },
   "source": [
    "# 2.\n",
    "\n",
    "A researcher has gathered thousands of news articles. But she wants to focus her attention on articles including a specific word. Complete the function below to help her filter her list of articles.\n",
    "\n",
    "Your function should meet the following criteria:\n",
    "\n",
    "- Do not include documents where the keyword string shows up only as a part of a larger word. For example, if she were looking for the keyword “closed”, you would not include the string “enclosed.” \n",
    "- She does not want you to distinguish upper case from lower case letters. So the phrase “Closed the case.” would be included when the keyword is “closed”\n",
    "- Do not let periods or commas affect what is matched. “It is closed.” would be included when the keyword is “closed”. But you can assume there are no other types of punctuation."
   ]
  },
  {
   "cell_type": "code",
   "execution_count": 9,
   "id": "44893719",
   "metadata": {
    "execution": {
     "iopub.execute_input": "2023-10-27T16:17:19.379143Z",
     "iopub.status.busy": "2023-10-27T16:17:19.378738Z",
     "iopub.status.idle": "2023-10-27T16:17:19.387869Z",
     "shell.execute_reply": "2023-10-27T16:17:19.386941Z"
    },
    "papermill": {
     "duration": 0.018781,
     "end_time": "2023-10-27T16:17:19.389952",
     "exception": false,
     "start_time": "2023-10-27T16:17:19.371171",
     "status": "completed"
    },
    "tags": []
   },
   "outputs": [
    {
     "data": {
      "application/javascript": [
       "parent.postMessage({\"jupyterEvent\": \"custom.exercise_interaction\", \"data\": {\"outcomeType\": 4, \"interactionType\": 1, \"questionType\": 2, \"questionId\": \"2_WordSearch\", \"learnToolsVersion\": \"0.3.4\", \"valueTowardsCompletion\": 0.0, \"failureMessage\": \"\", \"exceptionClass\": \"\", \"trace\": \"\"}}, \"*\")"
      ],
      "text/plain": [
       "<IPython.core.display.Javascript object>"
      ]
     },
     "metadata": {},
     "output_type": "display_data"
    },
    {
     "data": {
      "text/markdown": [
       "<span style=\"color:#ccaa33\">Check:</span> When you've updated the starter code, `check()` will tell you whether your code is correct. "
      ],
      "text/plain": [
       "Check: When you've updated the starter code, `check()` will tell you whether your code is correct. "
      ]
     },
     "metadata": {},
     "output_type": "display_data"
    }
   ],
   "source": [
    "def word_search(doc_list, keyword):\n",
    "    \"\"\"\n",
    "    Takes a list of documents (each document is a string) and a keyword. \n",
    "    Returns list of the index values into the original list for all documents \n",
    "    containing the keyword.\n",
    "\n",
    "    Example:\n",
    "    doc_list = [\"The Learn Python Challenge Casino.\", \"They bought a car\", \"Casinoville\"]\n",
    "    >>> word_search(doc_list, 'casino')\n",
    "    >>> [0]\n",
    "    \"\"\"\n",
    "    pass\n",
    "\n",
    "# Check your answer\n",
    "q2.check()"
   ]
  },
  {
   "cell_type": "code",
   "execution_count": 10,
   "id": "d6c12e24",
   "metadata": {
    "execution": {
     "iopub.execute_input": "2023-10-27T16:17:19.405087Z",
     "iopub.status.busy": "2023-10-27T16:17:19.404696Z",
     "iopub.status.idle": "2023-10-27T16:17:19.409203Z",
     "shell.execute_reply": "2023-10-27T16:17:19.408182Z"
    },
    "papermill": {
     "duration": 0.014775,
     "end_time": "2023-10-27T16:17:19.411346",
     "exception": false,
     "start_time": "2023-10-27T16:17:19.396571",
     "status": "completed"
    },
    "tags": []
   },
   "outputs": [],
   "source": [
    "#q2.hint()\n",
    "#q2.solution()"
   ]
  },
  {
   "cell_type": "markdown",
   "id": "4b182884",
   "metadata": {
    "papermill": {
     "duration": 0.006599,
     "end_time": "2023-10-27T16:17:19.425010",
     "exception": false,
     "start_time": "2023-10-27T16:17:19.418411",
     "status": "completed"
    },
    "tags": []
   },
   "source": [
    "# 3.\n",
    "\n",
    "Now the researcher wants to supply multiple keywords to search for. Complete the function below to help her.\n",
    "\n",
    "(You're encouraged to use the `word_search` function you just wrote when implementing this function. Reusing code in this way makes your programs more robust and readable - and it saves typing!)"
   ]
  },
  {
   "cell_type": "code",
   "execution_count": 11,
   "id": "5a43ab48",
   "metadata": {
    "execution": {
     "iopub.execute_input": "2023-10-27T16:17:19.440167Z",
     "iopub.status.busy": "2023-10-27T16:17:19.439822Z",
     "iopub.status.idle": "2023-10-27T16:17:19.446605Z",
     "shell.execute_reply": "2023-10-27T16:17:19.445888Z"
    },
    "papermill": {
     "duration": 0.016724,
     "end_time": "2023-10-27T16:17:19.448432",
     "exception": false,
     "start_time": "2023-10-27T16:17:19.431708",
     "status": "completed"
    },
    "tags": []
   },
   "outputs": [
    {
     "data": {
      "application/javascript": [
       "parent.postMessage({\"jupyterEvent\": \"custom.exercise_interaction\", \"data\": {\"outcomeType\": 4, \"interactionType\": 1, \"questionType\": 2, \"questionId\": \"3_MultiWordSearch\", \"learnToolsVersion\": \"0.3.4\", \"valueTowardsCompletion\": 0.0, \"failureMessage\": \"\", \"exceptionClass\": \"\", \"trace\": \"\"}}, \"*\")"
      ],
      "text/plain": [
       "<IPython.core.display.Javascript object>"
      ]
     },
     "metadata": {},
     "output_type": "display_data"
    },
    {
     "data": {
      "text/markdown": [
       "<span style=\"color:#ccaa33\">Check:</span> When you've updated the starter code, `check()` will tell you whether your code is correct. "
      ],
      "text/plain": [
       "Check: When you've updated the starter code, `check()` will tell you whether your code is correct. "
      ]
     },
     "metadata": {},
     "output_type": "display_data"
    }
   ],
   "source": [
    "def multi_word_search(doc_list, keywords):\n",
    "    \"\"\"\n",
    "    Takes list of documents (each document is a string) and a list of keywords.  \n",
    "    Returns a dictionary where each key is a keyword, and the value is a list of indices\n",
    "    (from doc_list) of the documents containing that keyword\n",
    "\n",
    "    >>> doc_list = [\"The Learn Python Challenge Casino.\", \"They bought a car and a casino\", \"Casinoville\"]\n",
    "    >>> keywords = ['casino', 'they']\n",
    "    >>> multi_word_search(doc_list, keywords)\n",
    "    {'casino': [0, 1], 'they': [1]}\n",
    "    \"\"\"\n",
    "    pass\n",
    "\n",
    "# Check your answer\n",
    "q3.check()"
   ]
  },
  {
   "cell_type": "code",
   "execution_count": 12,
   "id": "cc02eb3e",
   "metadata": {
    "execution": {
     "iopub.execute_input": "2023-10-27T16:17:19.464399Z",
     "iopub.status.busy": "2023-10-27T16:17:19.463871Z",
     "iopub.status.idle": "2023-10-27T16:17:19.467308Z",
     "shell.execute_reply": "2023-10-27T16:17:19.466588Z"
    },
    "papermill": {
     "duration": 0.013573,
     "end_time": "2023-10-27T16:17:19.469122",
     "exception": false,
     "start_time": "2023-10-27T16:17:19.455549",
     "status": "completed"
    },
    "tags": []
   },
   "outputs": [],
   "source": [
    "#q3.solution()"
   ]
  },
  {
   "cell_type": "markdown",
   "id": "b6ac4ad0",
   "metadata": {
    "papermill": {
     "duration": 0.006833,
     "end_time": "2023-10-27T16:17:19.482891",
     "exception": false,
     "start_time": "2023-10-27T16:17:19.476058",
     "status": "completed"
    },
    "tags": []
   },
   "source": [
    "# Keep Going\n",
    "\n",
    "You've learned a lot. But even the best programmers rely heavily on \"libraries\" of code from other programmers. You'll learn about that in **[the last lesson](https://www.kaggle.com/colinmorris/working-with-external-libraries)**.\n"
   ]
  },
  {
   "cell_type": "markdown",
   "id": "5658c5bc",
   "metadata": {
    "papermill": {
     "duration": 0.006724,
     "end_time": "2023-10-27T16:17:19.496692",
     "exception": false,
     "start_time": "2023-10-27T16:17:19.489968",
     "status": "completed"
    },
    "tags": []
   },
   "source": [
    "---\n",
    "\n",
    "\n",
    "\n",
    "\n",
    "*Have questions or comments? Visit the [course discussion forum](https://www.kaggle.com/learn/python/discussion) to chat with other learners.*"
   ]
  }
 ],
 "metadata": {
  "kernelspec": {
   "display_name": "Python 3",
   "language": "python",
   "name": "python3"
  },
  "language_info": {
   "codemirror_mode": {
    "name": "ipython",
    "version": 3
   },
   "file_extension": ".py",
   "mimetype": "text/x-python",
   "name": "python",
   "nbconvert_exporter": "python",
   "pygments_lexer": "ipython3",
   "version": "3.10.12"
  },
  "papermill": {
   "default_parameters": {},
   "duration": 4.312447,
   "end_time": "2023-10-27T16:17:19.922526",
   "environment_variables": {},
   "exception": null,
   "input_path": "__notebook__.ipynb",
   "output_path": "__notebook__.ipynb",
   "parameters": {},
   "start_time": "2023-10-27T16:17:15.610079",
   "version": "2.4.0"
  }
 },
 "nbformat": 4,
 "nbformat_minor": 5
}
