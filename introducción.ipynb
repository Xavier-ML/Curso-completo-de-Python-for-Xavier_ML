{
  "nbformat": 4,
  "nbformat_minor": 0,
  "metadata": {
    "colab": {
      "provenance": [],
      "authorship_tag": "ABX9TyP3H1Aadwb2XNs5aMwHNhNz",
      "include_colab_link": true
    },
    "kernelspec": {
      "name": "python3",
      "display_name": "Python 3"
    },
    "language_info": {
      "name": "python"
    }
  },
  "cells": [
    {
      "cell_type": "markdown",
      "metadata": {
        "id": "view-in-github",
        "colab_type": "text"
      },
      "source": [
        "<a href=\"https://colab.research.google.com/github/Xavier-ML/Curso-completo-de-Python-de-la-A-a-la-Z/blob/main/introducci%C3%B3n.ipynb\" target=\"_parent\"><img src=\"https://colab.research.google.com/assets/colab-badge.svg\" alt=\"Open In Colab\"/></a>"
      ]
    },
    {
      "cell_type": "markdown",
      "source": [
        "# Introducción a la Ciencia de Datos e Inteligencia Artificial con Python\n",
        "La Ciencia de Datos y la Inteligencia Artificial son campos interdisciplinarios en constante evolución que aprovechan el poder del análisis de datos y la automatización para obtener conocimientos significativos. Python, con su amplia gama de bibliotecas y herramientas, se ha convertido en el lenguaje preferido para estos dominios. A continuación, se presenta una breve introducción:\n",
        "\n",
        "1. Ciencia de Datos\n",
        "La Ciencia de Datos implica el procesamiento y análisis de conjuntos de datos para descubrir patrones, tendencias y conocimientos. Utiliza técnicas estadísticas y algoritmos de aprendizaje automático para extraer información valiosa.\n",
        "\n",
        "2. Inteligencia Artificial (IA)\n",
        "La IA se centra en desarrollar sistemas que pueden realizar tareas que normalmente requieren inteligencia humana. En el contexto de la Ciencia de Datos, la IA impulsa la automatización de procesos analíticos y la toma de decisiones.\n",
        "\n",
        "3. Uso de Python\n",
        "Python se destaca en la Ciencia de Datos e IA debido a sus bibliotecas como NumPy, Pandas y scikit-learn. Estas facilitan la manipulación de datos, el análisis estadístico y la implementación de algoritmos de aprendizaje automático.\n",
        "\n",
        "🌐 Fuentes\n",
        "\n",
        "1.[neuraldatascience.io - Markdown](https://neuraldatascience.io/2-nds/markdown.html)\n",
        "\n",
        "2.[github.com - Data Science, ML, AI Resources](https://github.com/jdmiranda/data-science-machine-learning-ai-resources)\n",
        "\n",
        "3.[towardsdatascience.com - Guide To R Markdown](https://towardsdatascience.com/guide-to-r-markdown-8468e6464bb4)\n",
        "\n",
        "4.[github.com - Data Science Learning Resources](https://github.com/bradleyboehmke/data-science-learning-resources)\n",
        "\n",
        "5.[link.springer.com - Python Data Science](https://link.springer.com/book/10.1007/978-981-19-7702-2)\n",
        "\n",
        "6.[datacamp.com - DataCamp: Learn Data Science and AI Online](https://app.datacamp.com/)\n",
        "\n",
        "se muestra un flujo de trabajo en data science.\n",
        "\n",
        "![flujo](/content/introduccion-2024-02-06-2333.png)\n"
      ],
      "metadata": {
        "id": "wNz3fYAD9ZGo"
      }
    },
    {
      "cell_type": "code",
      "source": [],
      "metadata": {
        "id": "OVna3AIu-b1d"
      },
      "execution_count": null,
      "outputs": []
    }
  ]
}