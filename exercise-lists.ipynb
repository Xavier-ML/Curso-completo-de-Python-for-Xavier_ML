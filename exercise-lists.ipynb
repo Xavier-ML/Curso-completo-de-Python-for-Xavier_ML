{
 "cells": [
  {
   "cell_type": "markdown",
   "id": "30bebe61",
   "metadata": {
    "papermill": {
     "duration": 0.007611,
     "end_time": "2023-10-26T21:56:57.862391",
     "exception": false,
     "start_time": "2023-10-26T21:56:57.854780",
     "status": "completed"
    },
    "tags": []
   },
   "source": [
    "**This notebook is an exercise in the [Python](https://www.kaggle.com/learn/python) course.  You can reference the tutorial at [this link](https://www.kaggle.com/colinmorris/lists).**\n",
    "\n",
    "---\n"
   ]
  },
  {
   "cell_type": "markdown",
   "id": "23f4734d",
   "metadata": {
    "papermill": {
     "duration": 0.004022,
     "end_time": "2023-10-26T21:56:57.871004",
     "exception": false,
     "start_time": "2023-10-26T21:56:57.866982",
     "status": "completed"
    },
    "tags": []
   },
   "source": [
    "Things get more interesting with lists. You'll apply your new knowledge to solve the questions below. Remember to run the following cell first."
   ]
  },
  {
   "cell_type": "code",
   "execution_count": 1,
   "id": "75eab0d4",
   "metadata": {
    "execution": {
     "iopub.execute_input": "2023-10-26T21:56:57.881372Z",
     "iopub.status.busy": "2023-10-26T21:56:57.880945Z",
     "iopub.status.idle": "2023-10-26T21:56:58.262959Z",
     "shell.execute_reply": "2023-10-26T21:56:58.261605Z"
    },
    "papermill": {
     "duration": 0.389993,
     "end_time": "2023-10-26T21:56:58.265366",
     "exception": false,
     "start_time": "2023-10-26T21:56:57.875373",
     "status": "completed"
    },
    "tags": []
   },
   "outputs": [
    {
     "name": "stdout",
     "output_type": "stream",
     "text": [
      "Setup complete.\n"
     ]
    }
   ],
   "source": [
    "from learntools.core import binder; binder.bind(globals())\n",
    "from learntools.python.ex4 import *\n",
    "print('Setup complete.')"
   ]
  },
  {
   "cell_type": "markdown",
   "id": "447f6cb5",
   "metadata": {
    "papermill": {
     "duration": 0.004361,
     "end_time": "2023-10-26T21:56:58.274322",
     "exception": false,
     "start_time": "2023-10-26T21:56:58.269961",
     "status": "completed"
    },
    "tags": []
   },
   "source": [
    "# 1.\n",
    "\n",
    "Complete the function below according to its docstring."
   ]
  },
  {
   "cell_type": "code",
   "execution_count": 2,
   "id": "49b8f99f",
   "metadata": {
    "execution": {
     "iopub.execute_input": "2023-10-26T21:56:58.285171Z",
     "iopub.status.busy": "2023-10-26T21:56:58.284282Z",
     "iopub.status.idle": "2023-10-26T21:56:58.295546Z",
     "shell.execute_reply": "2023-10-26T21:56:58.294785Z"
    },
    "papermill": {
     "duration": 0.019762,
     "end_time": "2023-10-26T21:56:58.298356",
     "exception": false,
     "start_time": "2023-10-26T21:56:58.278594",
     "status": "completed"
    },
    "tags": []
   },
   "outputs": [
    {
     "data": {
      "application/javascript": [
       "parent.postMessage({\"jupyterEvent\": \"custom.exercise_interaction\", \"data\": {\"outcomeType\": 1, \"valueTowardsCompletion\": 0.2, \"interactionType\": 1, \"questionType\": 2, \"questionId\": \"1_SelectSecondItem\", \"learnToolsVersion\": \"0.3.4\", \"failureMessage\": \"\", \"exceptionClass\": \"\", \"trace\": \"\"}}, \"*\")"
      ],
      "text/plain": [
       "<IPython.core.display.Javascript object>"
      ]
     },
     "metadata": {},
     "output_type": "display_data"
    },
    {
     "data": {
      "text/markdown": [
       "<span style=\"color:#33cc33\">Correct</span>"
      ],
      "text/plain": [
       "Correct"
      ]
     },
     "metadata": {},
     "output_type": "display_data"
    }
   ],
   "source": [
    "def select_second(L):\n",
    "    \"\"\"Return the second element of the given list. If the list has no second\n",
    "    element, return None.\n",
    "    \"\"\"\n",
    "    if len(L)<2:\n",
    "        q = None\n",
    "    else:\n",
    "        q = L[1]\n",
    "    \n",
    "    return q\n",
    "\n",
    "# Check your answer\n",
    "q1.check()"
   ]
  },
  {
   "cell_type": "code",
   "execution_count": 3,
   "id": "dda17ad9",
   "metadata": {
    "execution": {
     "iopub.execute_input": "2023-10-26T21:56:58.311915Z",
     "iopub.status.busy": "2023-10-26T21:56:58.311304Z",
     "iopub.status.idle": "2023-10-26T21:56:58.316949Z",
     "shell.execute_reply": "2023-10-26T21:56:58.315823Z"
    },
    "papermill": {
     "duration": 0.014423,
     "end_time": "2023-10-26T21:56:58.319389",
     "exception": false,
     "start_time": "2023-10-26T21:56:58.304966",
     "status": "completed"
    },
    "tags": []
   },
   "outputs": [
    {
     "data": {
      "text/plain": [
       "2"
      ]
     },
     "execution_count": 3,
     "metadata": {},
     "output_type": "execute_result"
    }
   ],
   "source": [
    "L = [1, 2, 3]\n",
    "select_second(L)"
   ]
  },
  {
   "cell_type": "code",
   "execution_count": 4,
   "id": "701bab2c",
   "metadata": {
    "execution": {
     "iopub.execute_input": "2023-10-26T21:56:58.331296Z",
     "iopub.status.busy": "2023-10-26T21:56:58.330626Z",
     "iopub.status.idle": "2023-10-26T21:56:58.335527Z",
     "shell.execute_reply": "2023-10-26T21:56:58.334931Z"
    },
    "papermill": {
     "duration": 0.012526,
     "end_time": "2023-10-26T21:56:58.337038",
     "exception": false,
     "start_time": "2023-10-26T21:56:58.324512",
     "status": "completed"
    },
    "tags": []
   },
   "outputs": [
    {
     "data": {
      "text/plain": [
       "3"
      ]
     },
     "execution_count": 4,
     "metadata": {},
     "output_type": "execute_result"
    }
   ],
   "source": [
    "len(L)"
   ]
  },
  {
   "cell_type": "code",
   "execution_count": 5,
   "id": "08ef322c",
   "metadata": {
    "execution": {
     "iopub.execute_input": "2023-10-26T21:56:58.349272Z",
     "iopub.status.busy": "2023-10-26T21:56:58.348632Z",
     "iopub.status.idle": "2023-10-26T21:56:58.357279Z",
     "shell.execute_reply": "2023-10-26T21:56:58.356684Z"
    },
    "papermill": {
     "duration": 0.016692,
     "end_time": "2023-10-26T21:56:58.358857",
     "exception": false,
     "start_time": "2023-10-26T21:56:58.342165",
     "status": "completed"
    },
    "tags": []
   },
   "outputs": [
    {
     "data": {
      "application/javascript": [
       "parent.postMessage({\"jupyterEvent\": \"custom.exercise_interaction\", \"data\": {\"interactionType\": 2, \"questionType\": 2, \"questionId\": \"1_SelectSecondItem\", \"learnToolsVersion\": \"0.3.4\", \"valueTowardsCompletion\": 0.0, \"failureMessage\": \"\", \"exceptionClass\": \"\", \"trace\": \"\", \"outcomeType\": 4}}, \"*\")"
      ],
      "text/plain": [
       "<IPython.core.display.Javascript object>"
      ]
     },
     "metadata": {},
     "output_type": "display_data"
    },
    {
     "data": {
      "text/markdown": [
       "<span style=\"color:#3366cc\">Hint:</span> Python starts counting at 0. So the second item isn't indexed with a 2"
      ],
      "text/plain": [
       "Hint: Python starts counting at 0. So the second item isn't indexed with a 2"
      ]
     },
     "metadata": {},
     "output_type": "display_data"
    },
    {
     "data": {
      "application/javascript": [
       "parent.postMessage({\"jupyterEvent\": \"custom.exercise_interaction\", \"data\": {\"interactionType\": 3, \"questionType\": 2, \"questionId\": \"1_SelectSecondItem\", \"learnToolsVersion\": \"0.3.4\", \"valueTowardsCompletion\": 0.0, \"failureMessage\": \"\", \"exceptionClass\": \"\", \"trace\": \"\", \"outcomeType\": 4}}, \"*\")"
      ],
      "text/plain": [
       "<IPython.core.display.Javascript object>"
      ]
     },
     "metadata": {},
     "output_type": "display_data"
    },
    {
     "data": {
      "text/markdown": [
       "<span style=\"color:#33cc99\">Solution:</span> \n",
       "```python\n",
       "def select_second(L):\n",
       "    if len(L) < 2:\n",
       "        return None\n",
       "    return L[1]\n",
       "```"
      ],
      "text/plain": [
       "Solution: \n",
       "```python\n",
       "def select_second(L):\n",
       "    if len(L) < 2:\n",
       "        return None\n",
       "    return L[1]\n",
       "```"
      ]
     },
     "metadata": {},
     "output_type": "display_data"
    }
   ],
   "source": [
    "q1.hint()\n",
    "q1.solution()"
   ]
  },
  {
   "cell_type": "markdown",
   "id": "0c270153",
   "metadata": {
    "papermill": {
     "duration": 0.004962,
     "end_time": "2023-10-26T21:56:58.369554",
     "exception": false,
     "start_time": "2023-10-26T21:56:58.364592",
     "status": "completed"
    },
    "tags": []
   },
   "source": [
    "# 2.\n",
    "\n",
    "You are analyzing sports teams.  Members of each team are stored in a list. The Coach is the first name in the list, the captain is the second name in the list, and other players are listed after that. \n",
    "These lists are stored in another list, which starts with the best team and proceeds through the list to the worst team last.  Complete the function below to select the **captain** of the worst team."
   ]
  },
  {
   "cell_type": "code",
   "execution_count": 6,
   "id": "d9f83a60",
   "metadata": {
    "execution": {
     "iopub.execute_input": "2023-10-26T21:56:58.382130Z",
     "iopub.status.busy": "2023-10-26T21:56:58.381503Z",
     "iopub.status.idle": "2023-10-26T21:56:58.391062Z",
     "shell.execute_reply": "2023-10-26T21:56:58.389353Z"
    },
    "papermill": {
     "duration": 0.018423,
     "end_time": "2023-10-26T21:56:58.393157",
     "exception": false,
     "start_time": "2023-10-26T21:56:58.374734",
     "status": "completed"
    },
    "tags": []
   },
   "outputs": [
    {
     "data": {
      "application/javascript": [
       "parent.postMessage({\"jupyterEvent\": \"custom.exercise_interaction\", \"data\": {\"outcomeType\": 1, \"valueTowardsCompletion\": 0.2, \"interactionType\": 1, \"questionType\": 2, \"questionId\": \"2_LosingTeamCaptain\", \"learnToolsVersion\": \"0.3.4\", \"failureMessage\": \"\", \"exceptionClass\": \"\", \"trace\": \"\"}}, \"*\")"
      ],
      "text/plain": [
       "<IPython.core.display.Javascript object>"
      ]
     },
     "metadata": {},
     "output_type": "display_data"
    },
    {
     "data": {
      "text/markdown": [
       "<span style=\"color:#33cc33\">Correct</span>"
      ],
      "text/plain": [
       "Correct"
      ]
     },
     "metadata": {},
     "output_type": "display_data"
    }
   ],
   "source": [
    "def losing_team_captain(teams):\n",
    "    \"\"\"Given a list of teams, where each team is a list of names, return the 2nd player (captain)\n",
    "    from the last listed team\n",
    "    \"\"\"\n",
    "    q=teams[-1][1]\n",
    "    \n",
    "    return q\n",
    "\n",
    "# Check your answer\n",
    "q2.check()"
   ]
  },
  {
   "cell_type": "code",
   "execution_count": 7,
   "id": "8c7437a6",
   "metadata": {
    "execution": {
     "iopub.execute_input": "2023-10-26T21:56:58.406331Z",
     "iopub.status.busy": "2023-10-26T21:56:58.405937Z",
     "iopub.status.idle": "2023-10-26T21:56:58.417534Z",
     "shell.execute_reply": "2023-10-26T21:56:58.416300Z"
    },
    "papermill": {
     "duration": 0.020664,
     "end_time": "2023-10-26T21:56:58.419470",
     "exception": false,
     "start_time": "2023-10-26T21:56:58.398806",
     "status": "completed"
    },
    "tags": []
   },
   "outputs": [
    {
     "data": {
      "application/javascript": [
       "parent.postMessage({\"jupyterEvent\": \"custom.exercise_interaction\", \"data\": {\"interactionType\": 2, \"questionType\": 2, \"questionId\": \"2_LosingTeamCaptain\", \"learnToolsVersion\": \"0.3.4\", \"valueTowardsCompletion\": 0.0, \"failureMessage\": \"\", \"exceptionClass\": \"\", \"trace\": \"\", \"outcomeType\": 4}}, \"*\")"
      ],
      "text/plain": [
       "<IPython.core.display.Javascript object>"
      ]
     },
     "metadata": {},
     "output_type": "display_data"
    },
    {
     "data": {
      "text/markdown": [
       "<span style=\"color:#3366cc\">Hint:</span> The last item in a list `L` can be selected with `L[-1]`. The first item in the first sublist would be selected as `L[0][0]`"
      ],
      "text/plain": [
       "Hint: The last item in a list `L` can be selected with `L[-1]`. The first item in the first sublist would be selected as `L[0][0]`"
      ]
     },
     "metadata": {},
     "output_type": "display_data"
    },
    {
     "data": {
      "application/javascript": [
       "parent.postMessage({\"jupyterEvent\": \"custom.exercise_interaction\", \"data\": {\"interactionType\": 3, \"questionType\": 2, \"questionId\": \"2_LosingTeamCaptain\", \"learnToolsVersion\": \"0.3.4\", \"valueTowardsCompletion\": 0.0, \"failureMessage\": \"\", \"exceptionClass\": \"\", \"trace\": \"\", \"outcomeType\": 4}}, \"*\")"
      ],
      "text/plain": [
       "<IPython.core.display.Javascript object>"
      ]
     },
     "metadata": {},
     "output_type": "display_data"
    },
    {
     "data": {
      "text/markdown": [
       "<span style=\"color:#33cc99\">Solution:</span> \n",
       "```python\n",
       "def losing_team_captain(teams):\n",
       "    return teams[-1][1]\n",
       "```"
      ],
      "text/plain": [
       "Solution: \n",
       "```python\n",
       "def losing_team_captain(teams):\n",
       "    return teams[-1][1]\n",
       "```"
      ]
     },
     "metadata": {},
     "output_type": "display_data"
    }
   ],
   "source": [
    "q2.hint()\n",
    "q2.solution()"
   ]
  },
  {
   "cell_type": "markdown",
   "id": "3f4a30b3",
   "metadata": {
    "papermill": {
     "duration": 0.005498,
     "end_time": "2023-10-26T21:56:58.431159",
     "exception": false,
     "start_time": "2023-10-26T21:56:58.425661",
     "status": "completed"
    },
    "tags": []
   },
   "source": [
    "# 3.\n",
    "\n",
    "The next iteration of Mario Kart will feature an extra-infuriating new item, the *Purple Shell*. When used, it warps the last place racer into first place and the first place racer into last place. Complete the function below to implement the Purple Shell's effect."
   ]
  },
  {
   "cell_type": "code",
   "execution_count": 8,
   "id": "610ecbab",
   "metadata": {
    "execution": {
     "iopub.execute_input": "2023-10-26T21:56:58.444482Z",
     "iopub.status.busy": "2023-10-26T21:56:58.443736Z",
     "iopub.status.idle": "2023-10-26T21:56:58.452415Z",
     "shell.execute_reply": "2023-10-26T21:56:58.451749Z"
    },
    "papermill": {
     "duration": 0.017444,
     "end_time": "2023-10-26T21:56:58.454232",
     "exception": false,
     "start_time": "2023-10-26T21:56:58.436788",
     "status": "completed"
    },
    "tags": []
   },
   "outputs": [
    {
     "data": {
      "application/javascript": [
       "parent.postMessage({\"jupyterEvent\": \"custom.exercise_interaction\", \"data\": {\"outcomeType\": 1, \"valueTowardsCompletion\": 0.2, \"interactionType\": 1, \"questionType\": 2, \"questionId\": \"3_PurpleShell\", \"learnToolsVersion\": \"0.3.4\", \"failureMessage\": \"\", \"exceptionClass\": \"\", \"trace\": \"\"}}, \"*\")"
      ],
      "text/plain": [
       "<IPython.core.display.Javascript object>"
      ]
     },
     "metadata": {},
     "output_type": "display_data"
    },
    {
     "data": {
      "text/markdown": [
       "<span style=\"color:#33cc33\">Correct</span>"
      ],
      "text/plain": [
       "Correct"
      ]
     },
     "metadata": {},
     "output_type": "display_data"
    }
   ],
   "source": [
    "def purple_shell(racers):\n",
    "    \"\"\"Given a list of racers, set the first place racer (at the front of the list) to last\n",
    "    place and vice versa.\n",
    "    \n",
    "    >>> r = [\"Mario\", \"Bowser\", \"Luigi\"]\n",
    "    >>> purple_shell(r)\n",
    "    >>> r\n",
    "    [\"Luigi\", \"Bowser\", \"Mario\"]\n",
    "    \"\"\"\n",
    "    P = racers[0]\n",
    "    U = racers[-1]\n",
    "    racers[0] = U\n",
    "    racers[-1] = P\n",
    "\n",
    "# Check your answer\n",
    "q3.check()"
   ]
  },
  {
   "cell_type": "code",
   "execution_count": 9,
   "id": "fd355891",
   "metadata": {
    "execution": {
     "iopub.execute_input": "2023-10-26T21:56:58.468777Z",
     "iopub.status.busy": "2023-10-26T21:56:58.468426Z",
     "iopub.status.idle": "2023-10-26T21:56:58.482930Z",
     "shell.execute_reply": "2023-10-26T21:56:58.482161Z"
    },
    "papermill": {
     "duration": 0.024319,
     "end_time": "2023-10-26T21:56:58.485197",
     "exception": false,
     "start_time": "2023-10-26T21:56:58.460878",
     "status": "completed"
    },
    "tags": []
   },
   "outputs": [
    {
     "data": {
      "application/javascript": [
       "parent.postMessage({\"jupyterEvent\": \"custom.exercise_interaction\", \"data\": {\"interactionType\": 2, \"questionType\": 2, \"questionId\": \"3_PurpleShell\", \"learnToolsVersion\": \"0.3.4\", \"valueTowardsCompletion\": 0.0, \"failureMessage\": \"\", \"exceptionClass\": \"\", \"trace\": \"\", \"outcomeType\": 4}}, \"*\")"
      ],
      "text/plain": [
       "<IPython.core.display.Javascript object>"
      ]
     },
     "metadata": {},
     "output_type": "display_data"
    },
    {
     "data": {
      "text/markdown": [
       "<span style=\"color:#3366cc\">Hint:</span> Your function should change the list it receives, but not return anything\n",
       "\n",
       "To swap the list elements, think back to the code you used in the very first exercise to swap two variables."
      ],
      "text/plain": [
       "Hint: Your function should change the list it receives, but not return anything\n",
       "\n",
       "To swap the list elements, think back to the code you used in the very first exercise to swap two variables."
      ]
     },
     "metadata": {},
     "output_type": "display_data"
    },
    {
     "data": {
      "application/javascript": [
       "parent.postMessage({\"jupyterEvent\": \"custom.exercise_interaction\", \"data\": {\"interactionType\": 3, \"questionType\": 2, \"questionId\": \"3_PurpleShell\", \"learnToolsVersion\": \"0.3.4\", \"valueTowardsCompletion\": 0.0, \"failureMessage\": \"\", \"exceptionClass\": \"\", \"trace\": \"\", \"outcomeType\": 4}}, \"*\")"
      ],
      "text/plain": [
       "<IPython.core.display.Javascript object>"
      ]
     },
     "metadata": {},
     "output_type": "display_data"
    },
    {
     "data": {
      "text/markdown": [
       "<span style=\"color:#33cc99\">Solution:</span> \n",
       "```python\n",
       "def purple_shell(racers):\n",
       "    # One slick way to do the swap is x[0], x[-1] = x[-1], x[0].\n",
       "    temp = racers[0]\n",
       "    racers[0] = racers[-1]\n",
       "    racers[-1] = temp\n",
       "```"
      ],
      "text/plain": [
       "Solution: \n",
       "```python\n",
       "def purple_shell(racers):\n",
       "    # One slick way to do the swap is x[0], x[-1] = x[-1], x[0].\n",
       "    temp = racers[0]\n",
       "    racers[0] = racers[-1]\n",
       "    racers[-1] = temp\n",
       "```"
      ]
     },
     "metadata": {},
     "output_type": "display_data"
    }
   ],
   "source": [
    "q3.hint()\n",
    "q3.solution()"
   ]
  },
  {
   "cell_type": "markdown",
   "id": "4aec944e",
   "metadata": {
    "papermill": {
     "duration": 0.00622,
     "end_time": "2023-10-26T21:56:58.498392",
     "exception": false,
     "start_time": "2023-10-26T21:56:58.492172",
     "status": "completed"
    },
    "tags": []
   },
   "source": [
    "# 4.\n",
    "\n",
    "What are the lengths of the following lists? Fill in the variable `lengths` with your predictions. (Try to make a prediction for each list *without* just calling `len()` on it.)"
   ]
  },
  {
   "cell_type": "code",
   "execution_count": 10,
   "id": "a805688f",
   "metadata": {
    "execution": {
     "iopub.execute_input": "2023-10-26T21:56:58.513931Z",
     "iopub.status.busy": "2023-10-26T21:56:58.513230Z",
     "iopub.status.idle": "2023-10-26T21:56:58.521436Z",
     "shell.execute_reply": "2023-10-26T21:56:58.520352Z"
    },
    "papermill": {
     "duration": 0.018761,
     "end_time": "2023-10-26T21:56:58.523784",
     "exception": false,
     "start_time": "2023-10-26T21:56:58.505023",
     "status": "completed"
    },
    "tags": []
   },
   "outputs": [
    {
     "data": {
      "application/javascript": [
       "parent.postMessage({\"jupyterEvent\": \"custom.exercise_interaction\", \"data\": {\"outcomeType\": 1, \"valueTowardsCompletion\": 0.2, \"interactionType\": 1, \"questionType\": 1, \"questionId\": \"4_UnderstandLen\", \"learnToolsVersion\": \"0.3.4\", \"failureMessage\": \"\", \"exceptionClass\": \"\", \"trace\": \"\"}}, \"*\")"
      ],
      "text/plain": [
       "<IPython.core.display.Javascript object>"
      ]
     },
     "metadata": {},
     "output_type": "display_data"
    },
    {
     "data": {
      "text/markdown": [
       "<span style=\"color:#33cc33\">Correct:</span> \n",
       "\n",
       "\n",
       "- a: There are three items in this list. Nothing tricky yet.\n",
       "- b: The list `[2, 3]` counts as a single item. It has one item before it. So we have 2 items in the list\n",
       "- c: The empty list has 0 items\n",
       "- d: The expression is the same as the list `[2, 3]`, which has length 2."
      ],
      "text/plain": [
       "Correct: \n",
       "\n",
       "\n",
       "- a: There are three items in this list. Nothing tricky yet.\n",
       "- b: The list `[2, 3]` counts as a single item. It has one item before it. So we have 2 items in the list\n",
       "- c: The empty list has 0 items\n",
       "- d: The expression is the same as the list `[2, 3]`, which has length 2."
      ]
     },
     "metadata": {},
     "output_type": "display_data"
    }
   ],
   "source": [
    "a = [1, 2, 3]\n",
    "b = [1, [2, 3]]\n",
    "c = []\n",
    "d = [1, 2, 3][1:]\n",
    "\n",
    "\n",
    "# Put your predictions in the list below. Lengths should contain 4 numbers, the\n",
    "# first being the length of a, the second being the length of b and so on.\n",
    "lengths = [3,2,0,2]\n",
    "\n",
    "# Check your answer\n",
    "q4.check()"
   ]
  },
  {
   "cell_type": "code",
   "execution_count": 11,
   "id": "07924f28",
   "metadata": {
    "execution": {
     "iopub.execute_input": "2023-10-26T21:56:58.539717Z",
     "iopub.status.busy": "2023-10-26T21:56:58.539201Z",
     "iopub.status.idle": "2023-10-26T21:56:58.543720Z",
     "shell.execute_reply": "2023-10-26T21:56:58.542441Z"
    },
    "papermill": {
     "duration": 0.014579,
     "end_time": "2023-10-26T21:56:58.545762",
     "exception": false,
     "start_time": "2023-10-26T21:56:58.531183",
     "status": "completed"
    },
    "tags": []
   },
   "outputs": [],
   "source": [
    "# line below provides some explanation\n",
    "#q4.solution()"
   ]
  },
  {
   "cell_type": "markdown",
   "id": "7e688c74",
   "metadata": {
    "papermill": {
     "duration": 0.0065,
     "end_time": "2023-10-26T21:56:58.559560",
     "exception": false,
     "start_time": "2023-10-26T21:56:58.553060",
     "status": "completed"
    },
    "tags": []
   },
   "source": [
    "# 5. <span title=\"A bit spicy\" style=\"color: darkgreen \">🌶️</span>\n",
    "\n",
    "We're using lists to record people who attended our party and what order they arrived in. For example, the following list represents a party with 7 guests, in which Adela showed up first and Ford was the last to arrive:\n",
    "\n",
    "    party_attendees = ['Adela', 'Fleda', 'Owen', 'May', 'Mona', 'Gilbert', 'Ford']\n",
    "\n",
    "A guest is considered 'fashionably late' if they arrived after at least half of the party's guests. However, they must not be the very last guest (that's taking it too far). In the above example, Mona and Gilbert are the only guests who were fashionably late.\n",
    "\n",
    "Complete the function below which takes a list of party attendees as well as a person, and tells us whether that person is fashionably late."
   ]
  },
  {
   "cell_type": "code",
   "execution_count": 12,
   "id": "d4c27040",
   "metadata": {
    "execution": {
     "iopub.execute_input": "2023-10-26T21:56:58.574989Z",
     "iopub.status.busy": "2023-10-26T21:56:58.574606Z",
     "iopub.status.idle": "2023-10-26T21:56:58.583430Z",
     "shell.execute_reply": "2023-10-26T21:56:58.582377Z"
    },
    "papermill": {
     "duration": 0.019156,
     "end_time": "2023-10-26T21:56:58.585647",
     "exception": false,
     "start_time": "2023-10-26T21:56:58.566491",
     "status": "completed"
    },
    "tags": []
   },
   "outputs": [
    {
     "data": {
      "application/javascript": [
       "parent.postMessage({\"jupyterEvent\": \"custom.exercise_interaction\", \"data\": {\"outcomeType\": 1, \"valueTowardsCompletion\": 0.2, \"interactionType\": 1, \"questionType\": 2, \"questionId\": \"5_FashionablyLate\", \"learnToolsVersion\": \"0.3.4\", \"failureMessage\": \"\", \"exceptionClass\": \"\", \"trace\": \"\"}}, \"*\")"
      ],
      "text/plain": [
       "<IPython.core.display.Javascript object>"
      ]
     },
     "metadata": {},
     "output_type": "display_data"
    },
    {
     "data": {
      "text/markdown": [
       "<span style=\"color:#33cc33\">Correct</span>"
      ],
      "text/plain": [
       "Correct"
      ]
     },
     "metadata": {},
     "output_type": "display_data"
    }
   ],
   "source": [
    "def fashionably_late(arrivals, name):\n",
    "    \"\"\"Given an ordered list of arrivals to the party and a name, return whether the guest with that\n",
    "    name was fashionably late.\n",
    "    \"\"\"\n",
    "    order = arrivals.index(name)\n",
    "    return order >= len(arrivals) / 2 and order != len(arrivals) - 1\n",
    "    \n",
    "    pass\n",
    "\n",
    "# Check your answer\n",
    "q5.check()"
   ]
  },
  {
   "cell_type": "code",
   "execution_count": 13,
   "id": "f309e67d",
   "metadata": {
    "execution": {
     "iopub.execute_input": "2023-10-26T21:56:58.602286Z",
     "iopub.status.busy": "2023-10-26T21:56:58.601628Z",
     "iopub.status.idle": "2023-10-26T21:56:58.606529Z",
     "shell.execute_reply": "2023-10-26T21:56:58.605144Z"
    },
    "papermill": {
     "duration": 0.01574,
     "end_time": "2023-10-26T21:56:58.608838",
     "exception": false,
     "start_time": "2023-10-26T21:56:58.593098",
     "status": "completed"
    },
    "tags": []
   },
   "outputs": [],
   "source": [
    "#q5.hint()\n",
    "#q5.solution()"
   ]
  },
  {
   "cell_type": "markdown",
   "id": "03faa70e",
   "metadata": {
    "papermill": {
     "duration": 0.006825,
     "end_time": "2023-10-26T21:56:58.622934",
     "exception": false,
     "start_time": "2023-10-26T21:56:58.616109",
     "status": "completed"
    },
    "tags": []
   },
   "source": [
    "# Keep Going\n",
    "\n",
    "That's it for lists and tuples! Now you have the baseline knowledge to **[learn about loops](https://www.kaggle.com/colinmorris/loops-and-list-comprehensions)**, which is where lists and tuples get really interesting. "
   ]
  },
  {
   "cell_type": "markdown",
   "id": "1e9e4db6",
   "metadata": {
    "papermill": {
     "duration": 0.00661,
     "end_time": "2023-10-26T21:56:58.636493",
     "exception": false,
     "start_time": "2023-10-26T21:56:58.629883",
     "status": "completed"
    },
    "tags": []
   },
   "source": [
    "---\n",
    "\n",
    "\n",
    "\n",
    "\n",
    "*Have questions or comments? Visit the [course discussion forum](https://www.kaggle.com/learn/python/discussion) to chat with other learners.*"
   ]
  }
 ],
 "metadata": {
  "kernelspec": {
   "display_name": "Python 3",
   "language": "python",
   "name": "python3"
  },
  "language_info": {
   "codemirror_mode": {
    "name": "ipython",
    "version": 3
   },
   "file_extension": ".py",
   "mimetype": "text/x-python",
   "name": "python",
   "nbconvert_exporter": "python",
   "pygments_lexer": "ipython3",
   "version": "3.10.12"
  },
  "papermill": {
   "default_parameters": {},
   "duration": 4.183318,
   "end_time": "2023-10-26T21:56:59.063753",
   "environment_variables": {},
   "exception": null,
   "input_path": "__notebook__.ipynb",
   "output_path": "__notebook__.ipynb",
   "parameters": {},
   "start_time": "2023-10-26T21:56:54.880435",
   "version": "2.4.0"
  }
 },
 "nbformat": 4,
 "nbformat_minor": 5
}
