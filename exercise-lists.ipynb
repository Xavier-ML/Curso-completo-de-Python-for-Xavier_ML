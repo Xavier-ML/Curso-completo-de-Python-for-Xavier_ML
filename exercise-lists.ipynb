{
 "cells": [
  {
   "cell_type": "markdown",
   "id": "262fd649",
   "metadata": {
    "papermill": {
     "duration": 0.006013,
     "end_time": "2023-10-26T17:21:58.751637",
     "exception": false,
     "start_time": "2023-10-26T17:21:58.745624",
     "status": "completed"
    },
    "tags": []
   },
   "source": [
    "**This notebook is an exercise in the [Python](https://www.kaggle.com/learn/python) course.  You can reference the tutorial at [this link](https://www.kaggle.com/colinmorris/lists).**\n",
    "\n",
    "---\n"
   ]
  },
  {
   "cell_type": "markdown",
   "id": "1909dc6d",
   "metadata": {
    "papermill": {
     "duration": 0.004108,
     "end_time": "2023-10-26T17:21:58.761330",
     "exception": false,
     "start_time": "2023-10-26T17:21:58.757222",
     "status": "completed"
    },
    "tags": []
   },
   "source": [
    "Things get more interesting with lists. You'll apply your new knowledge to solve the questions below. Remember to run the following cell first."
   ]
  },
  {
   "cell_type": "code",
   "execution_count": 1,
   "id": "93de65e8",
   "metadata": {
    "execution": {
     "iopub.execute_input": "2023-10-26T17:21:58.773576Z",
     "iopub.status.busy": "2023-10-26T17:21:58.772641Z",
     "iopub.status.idle": "2023-10-26T17:21:59.227790Z",
     "shell.execute_reply": "2023-10-26T17:21:59.226624Z"
    },
    "papermill": {
     "duration": 0.465089,
     "end_time": "2023-10-26T17:21:59.230864",
     "exception": false,
     "start_time": "2023-10-26T17:21:58.765775",
     "status": "completed"
    },
    "tags": []
   },
   "outputs": [
    {
     "name": "stdout",
     "output_type": "stream",
     "text": [
      "Setup complete.\n"
     ]
    }
   ],
   "source": [
    "from learntools.core import binder; binder.bind(globals())\n",
    "from learntools.python.ex4 import *\n",
    "print('Setup complete.')"
   ]
  },
  {
   "cell_type": "markdown",
   "id": "407ca597",
   "metadata": {
    "papermill": {
     "duration": 0.00451,
     "end_time": "2023-10-26T17:21:59.242446",
     "exception": false,
     "start_time": "2023-10-26T17:21:59.237936",
     "status": "completed"
    },
    "tags": []
   },
   "source": [
    "# 1.\n",
    "\n",
    "Complete the function below according to its docstring."
   ]
  },
  {
   "cell_type": "code",
   "execution_count": 2,
   "id": "077f562b",
   "metadata": {
    "execution": {
     "iopub.execute_input": "2023-10-26T17:21:59.255826Z",
     "iopub.status.busy": "2023-10-26T17:21:59.254935Z",
     "iopub.status.idle": "2023-10-26T17:21:59.270112Z",
     "shell.execute_reply": "2023-10-26T17:21:59.268551Z"
    },
    "papermill": {
     "duration": 0.025963,
     "end_time": "2023-10-26T17:21:59.273305",
     "exception": false,
     "start_time": "2023-10-26T17:21:59.247342",
     "status": "completed"
    },
    "tags": []
   },
   "outputs": [
    {
     "data": {
      "application/javascript": [
       "parent.postMessage({\"jupyterEvent\": \"custom.exercise_interaction\", \"data\": {\"outcomeType\": 1, \"valueTowardsCompletion\": 0.2, \"interactionType\": 1, \"questionType\": 2, \"questionId\": \"1_SelectSecondItem\", \"learnToolsVersion\": \"0.3.4\", \"failureMessage\": \"\", \"exceptionClass\": \"\", \"trace\": \"\"}}, \"*\")"
      ],
      "text/plain": [
       "<IPython.core.display.Javascript object>"
      ]
     },
     "metadata": {},
     "output_type": "display_data"
    },
    {
     "data": {
      "text/markdown": [
       "<span style=\"color:#33cc33\">Correct</span>"
      ],
      "text/plain": [
       "Correct"
      ]
     },
     "metadata": {},
     "output_type": "display_data"
    }
   ],
   "source": [
    "def select_second(L):\n",
    "    \"\"\"Return the second element of the given list. If the list has no second\n",
    "    element, return None.\n",
    "    \"\"\"\n",
    "    if len(L)<2:\n",
    "        q = None\n",
    "    else:\n",
    "        q = L[1]\n",
    "    \n",
    "    return q\n",
    "\n",
    "# Check your answer\n",
    "q1.check()"
   ]
  },
  {
   "cell_type": "code",
   "execution_count": 3,
   "id": "62544422",
   "metadata": {
    "execution": {
     "iopub.execute_input": "2023-10-26T17:21:59.286471Z",
     "iopub.status.busy": "2023-10-26T17:21:59.285863Z",
     "iopub.status.idle": "2023-10-26T17:21:59.293660Z",
     "shell.execute_reply": "2023-10-26T17:21:59.292741Z"
    },
    "papermill": {
     "duration": 0.017354,
     "end_time": "2023-10-26T17:21:59.296012",
     "exception": false,
     "start_time": "2023-10-26T17:21:59.278658",
     "status": "completed"
    },
    "tags": []
   },
   "outputs": [
    {
     "data": {
      "text/plain": [
       "2"
      ]
     },
     "execution_count": 3,
     "metadata": {},
     "output_type": "execute_result"
    }
   ],
   "source": [
    "L = [1, 2, 3]\n",
    "select_second(L)"
   ]
  },
  {
   "cell_type": "code",
   "execution_count": 4,
   "id": "a5cf2e8d",
   "metadata": {
    "execution": {
     "iopub.execute_input": "2023-10-26T17:21:59.310780Z",
     "iopub.status.busy": "2023-10-26T17:21:59.309437Z",
     "iopub.status.idle": "2023-10-26T17:21:59.315000Z",
     "shell.execute_reply": "2023-10-26T17:21:59.313421Z"
    },
    "papermill": {
     "duration": 0.015982,
     "end_time": "2023-10-26T17:21:59.317897",
     "exception": false,
     "start_time": "2023-10-26T17:21:59.301915",
     "status": "completed"
    },
    "tags": []
   },
   "outputs": [],
   "source": [
    "#q1.hint()\n",
    "#q1.solution()"
   ]
  },
  {
   "cell_type": "markdown",
   "id": "7c48433e",
   "metadata": {
    "papermill": {
     "duration": 0.004419,
     "end_time": "2023-10-26T17:21:59.327593",
     "exception": false,
     "start_time": "2023-10-26T17:21:59.323174",
     "status": "completed"
    },
    "tags": []
   },
   "source": [
    "# 2.\n",
    "\n",
    "You are analyzing sports teams.  Members of each team are stored in a list. The Coach is the first name in the list, the captain is the second name in the list, and other players are listed after that. \n",
    "These lists are stored in another list, which starts with the best team and proceeds through the list to the worst team last.  Complete the function below to select the **captain** of the worst team."
   ]
  },
  {
   "cell_type": "code",
   "execution_count": 5,
   "id": "c374587f",
   "metadata": {
    "execution": {
     "iopub.execute_input": "2023-10-26T17:21:59.342012Z",
     "iopub.status.busy": "2023-10-26T17:21:59.341169Z",
     "iopub.status.idle": "2023-10-26T17:21:59.351015Z",
     "shell.execute_reply": "2023-10-26T17:21:59.349397Z"
    },
    "papermill": {
     "duration": 0.019487,
     "end_time": "2023-10-26T17:21:59.353446",
     "exception": false,
     "start_time": "2023-10-26T17:21:59.333959",
     "status": "completed"
    },
    "tags": []
   },
   "outputs": [
    {
     "data": {
      "application/javascript": [
       "parent.postMessage({\"jupyterEvent\": \"custom.exercise_interaction\", \"data\": {\"outcomeType\": 4, \"interactionType\": 1, \"questionType\": 2, \"questionId\": \"2_LosingTeamCaptain\", \"learnToolsVersion\": \"0.3.4\", \"valueTowardsCompletion\": 0.0, \"failureMessage\": \"\", \"exceptionClass\": \"\", \"trace\": \"\"}}, \"*\")"
      ],
      "text/plain": [
       "<IPython.core.display.Javascript object>"
      ]
     },
     "metadata": {},
     "output_type": "display_data"
    },
    {
     "data": {
      "text/markdown": [
       "<span style=\"color:#ccaa33\">Check:</span> When you've updated the starter code, `check()` will tell you whether your code is correct. "
      ],
      "text/plain": [
       "Check: When you've updated the starter code, `check()` will tell you whether your code is correct. "
      ]
     },
     "metadata": {},
     "output_type": "display_data"
    }
   ],
   "source": [
    "def losing_team_captain(teams):\n",
    "    \"\"\"Given a list of teams, where each team is a list of names, return the 2nd player (captain)\n",
    "    from the last listed team\n",
    "    \"\"\"\n",
    "    pass\n",
    "\n",
    "# Check your answer\n",
    "q2.check()"
   ]
  },
  {
   "cell_type": "code",
   "execution_count": 6,
   "id": "4838d450",
   "metadata": {
    "collapsed": true,
    "execution": {
     "iopub.execute_input": "2023-10-26T17:21:59.367822Z",
     "iopub.status.busy": "2023-10-26T17:21:59.366867Z",
     "iopub.status.idle": "2023-10-26T17:21:59.372310Z",
     "shell.execute_reply": "2023-10-26T17:21:59.371211Z"
    },
    "jupyter": {
     "outputs_hidden": true
    },
    "papermill": {
     "duration": 0.016222,
     "end_time": "2023-10-26T17:21:59.375255",
     "exception": false,
     "start_time": "2023-10-26T17:21:59.359033",
     "status": "completed"
    },
    "tags": []
   },
   "outputs": [],
   "source": [
    "#q2.hint()\n",
    "#q2.solution()"
   ]
  },
  {
   "cell_type": "markdown",
   "id": "6521cc38",
   "metadata": {
    "papermill": {
     "duration": 0.004662,
     "end_time": "2023-10-26T17:21:59.385276",
     "exception": false,
     "start_time": "2023-10-26T17:21:59.380614",
     "status": "completed"
    },
    "tags": []
   },
   "source": [
    "# 3.\n",
    "\n",
    "The next iteration of Mario Kart will feature an extra-infuriating new item, the *Purple Shell*. When used, it warps the last place racer into first place and the first place racer into last place. Complete the function below to implement the Purple Shell's effect."
   ]
  },
  {
   "cell_type": "code",
   "execution_count": 7,
   "id": "e2e9d5c4",
   "metadata": {
    "execution": {
     "iopub.execute_input": "2023-10-26T17:21:59.398441Z",
     "iopub.status.busy": "2023-10-26T17:21:59.397682Z",
     "iopub.status.idle": "2023-10-26T17:21:59.408758Z",
     "shell.execute_reply": "2023-10-26T17:21:59.406962Z"
    },
    "papermill": {
     "duration": 0.021697,
     "end_time": "2023-10-26T17:21:59.412260",
     "exception": false,
     "start_time": "2023-10-26T17:21:59.390563",
     "status": "completed"
    },
    "tags": []
   },
   "outputs": [
    {
     "data": {
      "application/javascript": [
       "parent.postMessage({\"jupyterEvent\": \"custom.exercise_interaction\", \"data\": {\"outcomeType\": 4, \"interactionType\": 1, \"questionType\": 2, \"questionId\": \"3_PurpleShell\", \"learnToolsVersion\": \"0.3.4\", \"valueTowardsCompletion\": 0.0, \"failureMessage\": \"\", \"exceptionClass\": \"\", \"trace\": \"\"}}, \"*\")"
      ],
      "text/plain": [
       "<IPython.core.display.Javascript object>"
      ]
     },
     "metadata": {},
     "output_type": "display_data"
    },
    {
     "data": {
      "text/markdown": [
       "<span style=\"color:#ccaa33\">Check:</span> When you've updated the starter code, `check()` will tell you whether your code is correct. "
      ],
      "text/plain": [
       "Check: When you've updated the starter code, `check()` will tell you whether your code is correct. "
      ]
     },
     "metadata": {},
     "output_type": "display_data"
    }
   ],
   "source": [
    "def purple_shell(racers):\n",
    "    \"\"\"Given a list of racers, set the first place racer (at the front of the list) to last\n",
    "    place and vice versa.\n",
    "    \n",
    "    >>> r = [\"Mario\", \"Bowser\", \"Luigi\"]\n",
    "    >>> purple_shell(r)\n",
    "    >>> r\n",
    "    [\"Luigi\", \"Bowser\", \"Mario\"]\n",
    "    \"\"\"\n",
    "    pass\n",
    "\n",
    "# Check your answer\n",
    "q3.check()"
   ]
  },
  {
   "cell_type": "code",
   "execution_count": 8,
   "id": "9a161e1f",
   "metadata": {
    "collapsed": true,
    "execution": {
     "iopub.execute_input": "2023-10-26T17:21:59.427427Z",
     "iopub.status.busy": "2023-10-26T17:21:59.426532Z",
     "iopub.status.idle": "2023-10-26T17:21:59.433198Z",
     "shell.execute_reply": "2023-10-26T17:21:59.430763Z"
    },
    "jupyter": {
     "outputs_hidden": true
    },
    "papermill": {
     "duration": 0.017499,
     "end_time": "2023-10-26T17:21:59.436360",
     "exception": false,
     "start_time": "2023-10-26T17:21:59.418861",
     "status": "completed"
    },
    "tags": []
   },
   "outputs": [],
   "source": [
    "#q3.hint()\n",
    "#q3.solution()"
   ]
  },
  {
   "cell_type": "markdown",
   "id": "1a5d28ce",
   "metadata": {
    "papermill": {
     "duration": 0.005181,
     "end_time": "2023-10-26T17:21:59.447924",
     "exception": false,
     "start_time": "2023-10-26T17:21:59.442743",
     "status": "completed"
    },
    "tags": []
   },
   "source": [
    "# 4.\n",
    "\n",
    "What are the lengths of the following lists? Fill in the variable `lengths` with your predictions. (Try to make a prediction for each list *without* just calling `len()` on it.)"
   ]
  },
  {
   "cell_type": "code",
   "execution_count": 9,
   "id": "9b9e9cbf",
   "metadata": {
    "execution": {
     "iopub.execute_input": "2023-10-26T17:21:59.461396Z",
     "iopub.status.busy": "2023-10-26T17:21:59.460543Z",
     "iopub.status.idle": "2023-10-26T17:21:59.470405Z",
     "shell.execute_reply": "2023-10-26T17:21:59.468510Z"
    },
    "papermill": {
     "duration": 0.020087,
     "end_time": "2023-10-26T17:21:59.473447",
     "exception": false,
     "start_time": "2023-10-26T17:21:59.453360",
     "status": "completed"
    },
    "tags": []
   },
   "outputs": [
    {
     "data": {
      "application/javascript": [
       "parent.postMessage({\"jupyterEvent\": \"custom.exercise_interaction\", \"data\": {\"outcomeType\": 4, \"interactionType\": 1, \"questionType\": 1, \"questionId\": \"4_UnderstandLen\", \"learnToolsVersion\": \"0.3.4\", \"valueTowardsCompletion\": 0.0, \"failureMessage\": \"\", \"exceptionClass\": \"\", \"trace\": \"\"}}, \"*\")"
      ],
      "text/plain": [
       "<IPython.core.display.Javascript object>"
      ]
     },
     "metadata": {},
     "output_type": "display_data"
    },
    {
     "data": {
      "text/markdown": [
       "<span style=\"color:#ccaa33\">Check:</span> When you've updated the starter code, `check()` will tell you whether your code is correct. You need to update the code that creates variable `lengths`"
      ],
      "text/plain": [
       "Check: When you've updated the starter code, `check()` will tell you whether your code is correct. You need to update the code that creates variable `lengths`"
      ]
     },
     "metadata": {},
     "output_type": "display_data"
    }
   ],
   "source": [
    "a = [1, 2, 3]\n",
    "b = [1, [2, 3]]\n",
    "c = []\n",
    "d = [1, 2, 3][1:]\n",
    "\n",
    "# Put your predictions in the list below. Lengths should contain 4 numbers, the\n",
    "# first being the length of a, the second being the length of b and so on.\n",
    "lengths = []\n",
    "\n",
    "# Check your answer\n",
    "q4.check()"
   ]
  },
  {
   "cell_type": "code",
   "execution_count": 10,
   "id": "52046f3b",
   "metadata": {
    "collapsed": true,
    "execution": {
     "iopub.execute_input": "2023-10-26T17:21:59.487611Z",
     "iopub.status.busy": "2023-10-26T17:21:59.487169Z",
     "iopub.status.idle": "2023-10-26T17:21:59.493065Z",
     "shell.execute_reply": "2023-10-26T17:21:59.491760Z"
    },
    "jupyter": {
     "outputs_hidden": true
    },
    "papermill": {
     "duration": 0.017103,
     "end_time": "2023-10-26T17:21:59.496794",
     "exception": false,
     "start_time": "2023-10-26T17:21:59.479691",
     "status": "completed"
    },
    "tags": []
   },
   "outputs": [],
   "source": [
    "# line below provides some explanation\n",
    "#q4.solution()"
   ]
  },
  {
   "cell_type": "markdown",
   "id": "21685973",
   "metadata": {
    "papermill": {
     "duration": 0.005568,
     "end_time": "2023-10-26T17:21:59.508945",
     "exception": false,
     "start_time": "2023-10-26T17:21:59.503377",
     "status": "completed"
    },
    "tags": []
   },
   "source": [
    "# 5. <span title=\"A bit spicy\" style=\"color: darkgreen \">🌶️</span>\n",
    "\n",
    "We're using lists to record people who attended our party and what order they arrived in. For example, the following list represents a party with 7 guests, in which Adela showed up first and Ford was the last to arrive:\n",
    "\n",
    "    party_attendees = ['Adela', 'Fleda', 'Owen', 'May', 'Mona', 'Gilbert', 'Ford']\n",
    "\n",
    "A guest is considered 'fashionably late' if they arrived after at least half of the party's guests. However, they must not be the very last guest (that's taking it too far). In the above example, Mona and Gilbert are the only guests who were fashionably late.\n",
    "\n",
    "Complete the function below which takes a list of party attendees as well as a person, and tells us whether that person is fashionably late."
   ]
  },
  {
   "cell_type": "code",
   "execution_count": 11,
   "id": "a3b67b39",
   "metadata": {
    "execution": {
     "iopub.execute_input": "2023-10-26T17:21:59.522898Z",
     "iopub.status.busy": "2023-10-26T17:21:59.522472Z",
     "iopub.status.idle": "2023-10-26T17:21:59.533890Z",
     "shell.execute_reply": "2023-10-26T17:21:59.532920Z"
    },
    "papermill": {
     "duration": 0.02261,
     "end_time": "2023-10-26T17:21:59.537449",
     "exception": false,
     "start_time": "2023-10-26T17:21:59.514839",
     "status": "completed"
    },
    "tags": []
   },
   "outputs": [
    {
     "data": {
      "application/javascript": [
       "parent.postMessage({\"jupyterEvent\": \"custom.exercise_interaction\", \"data\": {\"outcomeType\": 4, \"interactionType\": 1, \"questionType\": 2, \"questionId\": \"5_FashionablyLate\", \"learnToolsVersion\": \"0.3.4\", \"valueTowardsCompletion\": 0.0, \"failureMessage\": \"\", \"exceptionClass\": \"\", \"trace\": \"\"}}, \"*\")"
      ],
      "text/plain": [
       "<IPython.core.display.Javascript object>"
      ]
     },
     "metadata": {},
     "output_type": "display_data"
    },
    {
     "data": {
      "text/markdown": [
       "<span style=\"color:#ccaa33\">Check:</span> When you've updated the starter code, `check()` will tell you whether your code is correct. "
      ],
      "text/plain": [
       "Check: When you've updated the starter code, `check()` will tell you whether your code is correct. "
      ]
     },
     "metadata": {},
     "output_type": "display_data"
    }
   ],
   "source": [
    "def fashionably_late(arrivals, name):\n",
    "    \"\"\"Given an ordered list of arrivals to the party and a name, return whether the guest with that\n",
    "    name was fashionably late.\n",
    "    \"\"\"\n",
    "    pass\n",
    "\n",
    "# Check your answer\n",
    "q5.check()"
   ]
  },
  {
   "cell_type": "code",
   "execution_count": 12,
   "id": "4d6ed4b1",
   "metadata": {
    "collapsed": true,
    "execution": {
     "iopub.execute_input": "2023-10-26T17:21:59.553144Z",
     "iopub.status.busy": "2023-10-26T17:21:59.552628Z",
     "iopub.status.idle": "2023-10-26T17:21:59.558779Z",
     "shell.execute_reply": "2023-10-26T17:21:59.556955Z"
    },
    "jupyter": {
     "outputs_hidden": true
    },
    "papermill": {
     "duration": 0.017439,
     "end_time": "2023-10-26T17:21:59.561789",
     "exception": false,
     "start_time": "2023-10-26T17:21:59.544350",
     "status": "completed"
    },
    "tags": []
   },
   "outputs": [],
   "source": [
    "#q5.hint()\n",
    "#q5.solution()"
   ]
  },
  {
   "cell_type": "markdown",
   "id": "a88c8d38",
   "metadata": {
    "papermill": {
     "duration": 0.005869,
     "end_time": "2023-10-26T17:21:59.574449",
     "exception": false,
     "start_time": "2023-10-26T17:21:59.568580",
     "status": "completed"
    },
    "tags": []
   },
   "source": [
    "# Keep Going\n",
    "\n",
    "That's it for lists and tuples! Now you have the baseline knowledge to **[learn about loops](https://www.kaggle.com/colinmorris/loops-and-list-comprehensions)**, which is where lists and tuples get really interesting. "
   ]
  },
  {
   "cell_type": "markdown",
   "id": "a1586574",
   "metadata": {
    "papermill": {
     "duration": 0.005533,
     "end_time": "2023-10-26T17:21:59.585914",
     "exception": false,
     "start_time": "2023-10-26T17:21:59.580381",
     "status": "completed"
    },
    "tags": []
   },
   "source": [
    "---\n",
    "\n",
    "\n",
    "\n",
    "\n",
    "*Have questions or comments? Visit the [course discussion forum](https://www.kaggle.com/learn/python/discussion) to chat with other learners.*"
   ]
  }
 ],
 "metadata": {
  "kernelspec": {
   "display_name": "Python 3",
   "language": "python",
   "name": "python3"
  },
  "language_info": {
   "codemirror_mode": {
    "name": "ipython",
    "version": 3
   },
   "file_extension": ".py",
   "mimetype": "text/x-python",
   "name": "python",
   "nbconvert_exporter": "python",
   "pygments_lexer": "ipython3",
   "version": "3.10.12"
  },
  "papermill": {
   "default_parameters": {},
   "duration": 4.38973,
   "end_time": "2023-10-26T17:22:00.114233",
   "environment_variables": {},
   "exception": null,
   "input_path": "__notebook__.ipynb",
   "output_path": "__notebook__.ipynb",
   "parameters": {},
   "start_time": "2023-10-26T17:21:55.724503",
   "version": "2.4.0"
  }
 },
 "nbformat": 4,
 "nbformat_minor": 5
}
